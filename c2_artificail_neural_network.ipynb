{
 "cells": [
  {
   "cell_type": "code",
   "execution_count": 1,
   "id": "8a584c6f-c55c-40c2-9d02-02ac1c870f4b",
   "metadata": {},
   "outputs": [
    {
     "name": "stdout",
     "output_type": "stream",
     "text": [
      "[0.5]\n"
     ]
    }
   ],
   "source": [
    "#Workshop1 Prepcetron Basic\n",
    "import numpy as np \n",
    "\n",
    "w0= -.5  #bias\n",
    "x =[[1], #input\n",
    "    [1]]\n",
    "w= [.5,.5]   #weight\n",
    "w=np.array(w) #  chang Numpy to array \n",
    "x=np.array(x)\n",
    "\n",
    "s= w0 +np.dot(w,x)\n",
    "print(s)"
   ]
  },
  {
   "cell_type": "code",
   "execution_count": 2,
   "id": "b0bfe131-5851-4aa9-aa6e-ff4a3cf0d84e",
   "metadata": {},
   "outputs": [
    {
     "name": "stdout",
     "output_type": "stream",
     "text": [
      "output y0 [s=-0.5]\n",
      "output y1 [s=0.0]\n",
      "output y1 [s=0.0]\n",
      "output y1 [s=0.5]\n"
     ]
    }
   ],
   "source": [
    "#Workshop2 AND gate Neuron \n",
    "\n",
    "def and_gate(x1,x2):\n",
    "    w0=-0.5 #bias\n",
    "    w1=0.5  #weight\n",
    "    w2=0.5\n",
    "    \n",
    "    threshold = 0.0\n",
    "    \n",
    "    s= w0+(w1*x1)+(w2*x2)\n",
    "    if s >= threshold:\n",
    "        result = 1 \n",
    "    else: \n",
    "        result = 0 \n",
    "    print('output y{} [s={}]'.format(result,s) )\n",
    "\n",
    "and_gate(0,0)\n",
    "and_gate(0,1)\n",
    "and_gate(1,0)\n",
    "and_gate(1,1)"
   ]
  },
  {
   "cell_type": "code",
   "execution_count": 3,
   "id": "53667ab9-53dc-46be-9100-53231d1cb007",
   "metadata": {},
   "outputs": [
    {
     "name": "stdout",
     "output_type": "stream",
     "text": [
      "output y0 [s=-0.5]\n",
      "output y0 [s=-0.3]\n",
      "output y0 [s=-0.3]\n",
      "output y0 [s=-0.09999999999999998]\n"
     ]
    }
   ],
   "source": [
    "#backprogation1\n",
    "def and_gate(x1,x2):\n",
    "    w0=-0.5 #bias\n",
    "    w1=0.2  #weight\n",
    "    w2=0.2\n",
    "    \n",
    "    threshold = 0.0\n",
    "    \n",
    "    s= w0+(w1*x1)+(w2*x2)\n",
    "    if s >= threshold:\n",
    "        result = 1 \n",
    "    else: \n",
    "        result = 0 \n",
    "    print('output y{} [s={}]'.format(result,s) )\n",
    "\n",
    "and_gate(0,0)\n",
    "and_gate(0,1)\n",
    "and_gate(1,0)\n",
    "and_gate(1,1)"
   ]
  },
  {
   "cell_type": "code",
   "execution_count": 4,
   "id": "88a349bd-0b58-480a-aef4-c0d22894fde7",
   "metadata": {},
   "outputs": [
    {
     "name": "stdout",
     "output_type": "stream",
     "text": [
      "output y0 [s=-0.5]\n",
      "output y0 [s=-0.04999999999999999]\n",
      "output y0 [s=-0.04999999999999999]\n",
      "output y1 [s=0.4]\n"
     ]
    }
   ],
   "source": [
    "#backprogation2   compleate \n",
    "def and_gate(x1,x2):\n",
    "    w0=-0.5 #bias\n",
    "    w1=0.45  #weight\n",
    "    w2=0.45\n",
    "    \n",
    "    threshold = 0.0\n",
    "    \n",
    "    s= w0+(w1*x1)+(w2*x2)\n",
    "    if s >= threshold:\n",
    "        result = 1 \n",
    "    else: \n",
    "        result = 0 \n",
    "    print('output y{} [s={}]'.format(result,s) )\n",
    "\n",
    "and_gate(0,0)\n",
    "and_gate(0,1)\n",
    "and_gate(1,0)\n",
    "and_gate(1,1)"
   ]
  },
  {
   "cell_type": "code",
   "execution_count": 5,
   "id": "821a9e6d-48d7-47c5-bbe7-6f407093d84c",
   "metadata": {},
   "outputs": [
    {
     "name": "stdout",
     "output_type": "stream",
     "text": [
      "output y0 [s=-0.5]\n",
      "output y1 [s=0.4]\n",
      "output y1 [s=0.4]\n",
      "output y1 [s=1.3]\n"
     ]
    }
   ],
   "source": [
    "#Workshop 4 Or gate\n",
    "\n",
    "#backprogation1\n",
    "def and_or(x1,x2):\n",
    "    w0=-0.5 #bias\n",
    "    w1=0.9  #weight\n",
    "    w2=0.9\n",
    "    \n",
    "    threshold = 0.0\n",
    "    \n",
    "    s= w0+(w1*x1)+(w2*x2)\n",
    "    if s >= threshold:\n",
    "        result = 1 \n",
    "    else: \n",
    "        result = 0 \n",
    "    print('output y{} [s={}]'.format(result,s) )\n",
    "\n",
    "and_or(0,0)\n",
    "and_or(0,1)\n",
    "and_or(1,0)\n",
    "and_or(1,1)"
   ]
  },
  {
   "cell_type": "code",
   "execution_count": 6,
   "id": "7d130fda",
   "metadata": {},
   "outputs": [
    {
     "name": "stdout",
     "output_type": "stream",
     "text": [
      "output y0 [s=-0.5]\n",
      "output y0 [s=-0.3]\n",
      "output y1 [s=0.30000000000000004]\n",
      "output y1 [s=0.5]\n"
     ]
    }
   ],
   "source": [
    "#Workshop5  XOR\n",
    "def and_xor(x1,x2):\n",
    "    w0=-0.5\n",
    "    w1=0.8\n",
    "    w2=0.2\n",
    "    \n",
    "    threshold = 0.0\n",
    "    \n",
    "    s= w0+(w1*x1)+(w2*x2)\n",
    "    if s >= threshold:\n",
    "        result = 1 \n",
    "    else: \n",
    "        result = 0 \n",
    "    print('output y{} [s={}]'.format(result,s) )\n",
    "\n",
    "and_xor(0,0)\n",
    "and_xor(0,1)\n",
    "and_xor(1,0)\n",
    "and_xor(1,1)"
   ]
  },
  {
   "cell_type": "code",
   "execution_count": 7,
   "id": "5ea729ee",
   "metadata": {},
   "outputs": [
    {
     "name": "stdout",
     "output_type": "stream",
     "text": [
      "output y0 [s=-1.0]\n",
      "output y0 [s=-1.9]\n",
      "output y0 [s=-0.34999999999999987]\n",
      "output y1 [s=0.20000000000000018]\n"
     ]
    }
   ],
   "source": [
    "#Workshop 6 Neuron \n",
    "\n",
    "def is_lemon(x1,x2):\n",
    "    w0=-3.5\n",
    "    w1 = 0.2\n",
    "    w2 = 0.5\n",
    "    s=w0+(x1*w1)+(x2*w2)\n",
    "    threshold = 0.0\n",
    "    if s >= threshold:\n",
    "        result =1\n",
    "    else: \n",
    "        result = 0\n",
    "    print('output y{} [s={}]'.format(result,s) )\n",
    "\n",
    "#weight , Diameter\n",
    "    \n",
    "is_lemon(2,4.2)\n",
    "is_lemon(3,2)\n",
    "is_lemon(8,3.1)\n",
    "is_lemon(8,4.2)    \n",
    "        "
   ]
  },
  {
   "cell_type": "code",
   "execution_count": 8,
   "id": "1e6290da",
   "metadata": {},
   "outputs": [
    {
     "name": "stdout",
     "output_type": "stream",
     "text": [
      "output y1 [s=1.35]\n",
      "output y1 [s=0.20000000000000018]\n"
     ]
    }
   ],
   "source": [
    "is_lemon(8,6.5)\n",
    "is_lemon(8,4.2)  "
   ]
  },
  {
   "cell_type": "code",
   "execution_count": 9,
   "id": "9ff06af5",
   "metadata": {},
   "outputs": [
    {
     "name": "stdout",
     "output_type": "stream",
     "text": [
      "0\n",
      "0\n",
      "1\n",
      "1\n"
     ]
    }
   ],
   "source": [
    "#Workshop 7 Bainary  step activaton function\n",
    "# เป็นตัวตัดสินใจอีกขั้นหนึ่งจากผลได้มากจากค่า sum\n",
    "def bainary_step(x):\n",
    "    if x > 0:\n",
    "        result =1 \n",
    "    else: \n",
    "        result =0\n",
    "    return result\n",
    "\n",
    "def bai_step(x):\n",
    "    result = 1 if x > 0 else 0 \n",
    "    return result\n",
    "\n",
    "print(bainary_step(0))\n",
    "print(bainary_step(-0.5))\n",
    "print(bai_step(0.4))\n",
    "print(bai_step(2.5))"
   ]
  },
  {
   "cell_type": "code",
   "execution_count": 10,
   "id": "09c36184",
   "metadata": {},
   "outputs": [
    {
     "name": "stdout",
     "output_type": "stream",
     "text": [
      "[-7.   -6.85 -6.7  -6.55 -6.4  -6.25 -6.1  -5.95 -5.8  -5.65]\n",
      "[-7.   -6.85 -6.7  -6.55 -6.4  -6.25 -6.1  -5.95 -5.8  -5.65 -5.5  -5.35\n",
      " -5.2  -5.05 -4.9  -4.75 -4.6  -4.45 -4.3  -4.15 -4.   -3.85 -3.7  -3.55\n",
      " -3.4  -3.25 -3.1  -2.95 -2.8  -2.65 -2.5  -2.35 -2.2  -2.05 -1.9  -1.75\n",
      " -1.6  -1.45 -1.3  -1.15 -1.   -0.85 -0.7  -0.55 -0.4  -0.25 -0.1   0.05\n",
      "  0.2   0.35  0.5   0.65  0.8   0.95  1.1   1.25  1.4   1.55  1.7   1.85\n",
      "  2.    2.15  2.3   2.45  2.6   2.75  2.9   3.05  3.2   3.35  3.5   3.65\n",
      "  3.8   3.95  4.1   4.25  4.4   4.55  4.7   4.85  5.    5.15  5.3   5.45\n",
      "  5.6   5.75  5.9   6.05  6.2   6.35  6.5   6.65  6.8   6.95]\n",
      "[5.45 5.6  5.75 5.9  6.05 6.2  6.35 6.5  6.65 6.8 ]\n"
     ]
    }
   ],
   "source": [
    "# add multi input\n",
    "import numpy as np \n",
    "input = np.arange(-7,7,0.15)\n",
    "\n",
    "print(input[:10])\n",
    "print(input[:])\n",
    "print(input[-11:-1])"
   ]
  },
  {
   "cell_type": "code",
   "execution_count": 11,
   "id": "85b38db3",
   "metadata": {},
   "outputs": [
    {
     "name": "stdout",
     "output_type": "stream",
     "text": [
      "[0, 0, 0, 0, 0, 0, 0, 1, 1, 1, 1, 1, 1, 1, 1]\n"
     ]
    }
   ],
   "source": [
    "# all  bainary step \n",
    "output = [bainary_step(x)for x in input]\n",
    "print(output[40:55])"
   ]
  },
  {
   "cell_type": "code",
   "execution_count": 12,
   "id": "e7b0479e",
   "metadata": {},
   "outputs": [
    {
     "name": "stdout",
     "output_type": "stream",
     "text": [
      "[0, 0, 0, 0, 0, 0, 0, 0, 0, 0, 0, 0, 0, 0, 0, 0, 0, 0, 0, 0, 0, 0, 0, 0, 0, 0, 0, 0, 0, 0, 0, 0, 0, 0, 0, 0, 0, 0, 0, 0, 0, 0, 0, 0, 0, 0, 0, 1, 1, 1, 1, 1, 1, 1, 1, 1, 1, 1, 1, 1, 1, 1, 1, 1, 1, 1, 1, 1, 1, 1, 1, 1, 1, 1, 1, 1, 1, 1, 1, 1, 1, 1, 1, 1, 1, 1, 1, 1, 1, 1, 1, 1, 1, 1]\n"
     ]
    }
   ],
   "source": [
    "print(output[:])"
   ]
  },
  {
   "cell_type": "code",
   "execution_count": 13,
   "id": "32947678",
   "metadata": {},
   "outputs": [
    {
     "data": {
      "image/png": "[encoded data removed]",
      "text/plain": [
       "<Figure size 432x288 with 1 Axes>"
      ]
     },
     "metadata": {
      "needs_background": "light"
     },
     "output_type": "display_data"
    }
   ],
   "source": [
    "import matplotlib.pyplot as plt \n",
    "plt.plot( input , output)\n",
    "plt.ylabel('y(output)')\n",
    "plt.xlabel('x(input)')\n",
    "plt.show()"
   ]
  },
  {
   "cell_type": "code",
   "execution_count": 14,
   "id": "8cb0c685",
   "metadata": {},
   "outputs": [
    {
     "name": "stdout",
     "output_type": "stream",
     "text": [
      "1.5\n",
      "3\n",
      "6\n"
     ]
    }
   ],
   "source": [
    "#Workshop linear activation function \n",
    "def linear05(x):\n",
    "    result = 0.5*x\n",
    "    return result\n",
    "\n",
    "def linear1(x):\n",
    "    result = 1*x\n",
    "    return result\n",
    "\n",
    "def linear2(x):\n",
    "    result = 2*x\n",
    "    return result\n",
    "print(linear05(3))\n",
    "print(linear1(3))\n",
    "print(linear2(3))"
   ]
  },
  {
   "cell_type": "code",
   "execution_count": 17,
   "id": "43a62db3",
   "metadata": {},
   "outputs": [
    {
     "data": {
      "text/plain": [
       "[<matplotlib.lines.Line2D at 0x1cc72469190>]"
      ]
     },
     "execution_count": 17,
     "metadata": {},
     "output_type": "execute_result"
    },
    {
     "data": {
      "image/png": "[encoded data removed]",
      "text/plain": [
       "<Figure size 432x288 with 1 Axes>"
      ]
     },
     "metadata": {
      "needs_background": "light"
     },
     "output_type": "display_data"
    }
   ],
   "source": [
    "input = np.arange(-7,7,0.15)\n",
    "output05= [linear05(x)for x in input]\n",
    "output1 = [linear1(x)for x in input]\n",
    "output2 = [linear2(x)for x in input]\n",
    "\n",
    "plt.plot(input,output05, lw=2.,c='g')\n",
    "plt.plot(input,output1, lw=2.,c='b')\n",
    "plt.plot(input,output2, lw= 2.,c='m')"
   ]
  },
  {
   "cell_type": "code",
   "execution_count": 18,
   "id": "968bc4aa",
   "metadata": {},
   "outputs": [
    {
     "name": "stdout",
     "output_type": "stream",
     "text": [
      "0.5\n",
      "0.7310585786300049\n",
      "0.01798620996209156\n",
      "0.9975273768433653\n",
      "1.0\n"
     ]
    }
   ],
   "source": [
    "#Workshop4 sigmoid function \n",
    "#ได้รับความนิยมเช่นเดียวกัน\n",
    "\n",
    "from math import exp\n",
    "\n",
    "def sigmoid(x):\n",
    "    return 1.0/(1.0+exp(-x))\n",
    "\n",
    "print(sigmoid(0))\n",
    "print(sigmoid(1))\n",
    "print(sigmoid(-4))\n",
    "print(sigmoid(6))\n",
    "print(sigmoid(50))"
   ]
  },
  {
   "cell_type": "code",
   "execution_count": 19,
   "id": "79f40b86",
   "metadata": {},
   "outputs": [
    {
     "data": {
      "image/png": "[encoded data removed]",
      "text/plain": [
       "<Figure size 432x288 with 1 Axes>"
      ]
     },
     "metadata": {
      "needs_background": "light"
     },
     "output_type": "display_data"
    }
   ],
   "source": [
    "#multi input sigmond\n",
    "input = np.arange(-7,7,0.15)\n",
    "\n",
    "output = [sigmoid(x)for x in input]\n",
    "\n",
    "plt.axhline(y=0.5,color ='r',linestyle= '--',lw =1.2)\n",
    "plt.ylabel('y(output)')\n",
    "plt.xlabel('x(input)')\n",
    "plt.grid()\n",
    "plt.plot(input,output,c='b')\n",
    "plt.show()"
   ]
  },
  {
   "cell_type": "code",
   "execution_count": 20,
   "id": "d1d62f25",
   "metadata": {},
   "outputs": [
    {
     "name": "stdout",
     "output_type": "stream",
     "text": [
      "0.0\n",
      "0.7615941559557649\n",
      "0.9999999958776926\n",
      "-0.7615941559557649\n"
     ]
    }
   ],
   "source": [
    "#Workshop 10 Tanh function \n",
    "\n",
    "import numpy as np \n",
    "from math import exp \n",
    "\n",
    "def tanh(x):\n",
    "    return (exp(x)-exp(-x))/(exp(x)+exp(-x))\n",
    "\n",
    "print(tanh(0))\n",
    "print(tanh(1))\n",
    "print(tanh(10))\n",
    "print(tanh(-1))"
   ]
  },
  {
   "cell_type": "code",
   "execution_count": 22,
   "id": "99fa8d4a",
   "metadata": {},
   "outputs": [
    {
     "data": {
      "image/png": "[encoded data removed]",
      "text/plain": [
       "<Figure size 432x288 with 1 Axes>"
      ]
     },
     "metadata": {
      "needs_background": "light"
     },
     "output_type": "display_data"
    }
   ],
   "source": [
    "#multi input tanh \n",
    "\n",
    "input = np.arange(-6,6,0.2)\n",
    "\n",
    "output = [tanh(x)for x in input ]\n",
    "plt.ylabel('y(output)')\n",
    "plt.xlabel('x(input)')\n",
    "plt.grid()\n",
    "plt.plot(input,output,c='g',lw=2)\n",
    "plt.show()"
   ]
  },
  {
   "cell_type": "code",
   "execution_count": 24,
   "id": "8f7f89da",
   "metadata": {},
   "outputs": [
    {
     "name": "stdout",
     "output_type": "stream",
     "text": [
      "0.0\n",
      "0.0\n",
      "0.5\n",
      "0.2\n"
     ]
    }
   ],
   "source": [
    " #Workshop 11 ReLU function \n",
    "\n",
    "def Relu(x):\n",
    "    return max(0.0,x)\n",
    "\n",
    "print(Relu(-1))\n",
    "print(Relu(-2))\n",
    "print(Relu(0.5))\n",
    "print(Relu(0.2))"
   ]
  },
  {
   "cell_type": "code",
   "execution_count": 26,
   "id": "f8d1a9b8",
   "metadata": {},
   "outputs": [
    {
     "data": {
      "image/png": "[encoded data removed]",
      "text/plain": [
       "<Figure size 432x288 with 1 Axes>"
      ]
     },
     "metadata": {
      "needs_background": "light"
     },
     "output_type": "display_data"
    }
   ],
   "source": [
    "#multi input Relu\n",
    "\n",
    "input = np.arange(-7,7,0.5)\n",
    "output = [Relu(x) for x in input]\n",
    "\n",
    "plt.ylabel('y(output)')\n",
    "plt.xlabel('x(input)')\n",
    "plt.grid()\n",
    "plt.plot(input,output,c='b',lw =2 )\n",
    "\n",
    "plt.show()"
   ]
  },
  {
   "cell_type": "code",
   "execution_count": 27,
   "id": "f18ea9a6",
   "metadata": {},
   "outputs": [
    {
     "name": "stdout",
     "output_type": "stream",
     "text": [
      "-0.01\n",
      "-0.02\n",
      "0.5\n",
      "0.2\n"
     ]
    }
   ],
   "source": [
    "#Laeky Relu  \n",
    "#คล้ายตัว Relu มีค่า slop น้อยกว่าแน่ๆ\n",
    "\n",
    "def leaky_Relu(x):\n",
    "    if x <0:\n",
    "        return 0.01*x\n",
    "    else:\n",
    "        return x \n",
    "\n",
    "\n",
    "print(leaky_Relu(-1))\n",
    "print(leaky_Relu(-2))\n",
    "print(leaky_Relu(0.5))\n",
    "print(leaky_Relu(0.2))"
   ]
  },
  {
   "cell_type": "code",
   "execution_count": 28,
   "id": "3a42f6de",
   "metadata": {},
   "outputs": [
    {
     "data": {
      "image/png": "[encoded data removed]",
      "text/plain": [
       "<Figure size 432x288 with 1 Axes>"
      ]
     },
     "metadata": {
      "needs_background": "light"
     },
     "output_type": "display_data"
    }
   ],
   "source": [
    "#multi input  Leaky Relu\n",
    "\n",
    "input = np.arange(-7,7,0.5)\n",
    "output = [leaky_Relu(x) for x in input]\n",
    "\n",
    "plt.ylabel('y(output)')\n",
    "plt.xlabel('x(input)')\n",
    "plt.grid()\n",
    "plt.plot(input,output,c='b',lw =2 )\n",
    "\n",
    "plt.show()"
   ]
  },
  {
   "cell_type": "code",
   "execution_count": 36,
   "id": "07c66799",
   "metadata": {},
   "outputs": [
    {
     "name": "stdout",
     "output_type": "stream",
     "text": [
      "[0.8360188  0.11314284 0.05083836]\n"
     ]
    }
   ],
   "source": [
    "#Workshop13 softmax function \n",
    "from math import exp\n",
    "import numpy as np\n",
    "\n",
    "def softmax(x):\n",
    "    e_x = np.exp(x - np.max(x))\n",
    "    return e_x / e_x.sum()\n",
    "\n",
    "scores = [3.0, 1.0, 0.2]\n",
    "print(softmax(scores))"
   ]
  },
  {
   "cell_type": "code",
   "execution_count": null,
   "id": "dcd0e396",
   "metadata": {},
   "outputs": [],
   "source": []
  }
 ],
 "metadata": {
  "kernelspec": {
   "display_name": "Python 3 (ipykernel)",
   "language": "python",
   "name": "python3"
  },
  "language_info": {
   "codemirror_mode": {
    "name": "ipython",
    "version": 3
   },
   "file_extension": ".py",
   "mimetype": "text/x-python",
   "name": "python",
   "nbconvert_exporter": "python",
   "pygments_lexer": "ipython3",
   "version": "3.9.12"
  }
 },
 "nbformat": 4,
 "nbformat_minor": 5
}
