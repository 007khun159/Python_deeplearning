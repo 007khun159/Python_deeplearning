{
 "cells": [
  {
   "cell_type": "code",
   "execution_count": 3,
   "id": "33b758ec",
   "metadata": {},
   "outputs": [
    {
     "name": "stdout",
     "output_type": "stream",
     "text": [
      "Score:  1.0\n",
      "Predict [0 0 0 1]\n",
      "target [0 0 0 1]\n"
     ]
    }
   ],
   "source": [
    "#Workshop1 Perceptron scikit-learn \n",
    "\n",
    "import numpy as np \n",
    "\n",
    "X = [[0,0],\n",
    "    [0,1],\n",
    "    [1,0],\n",
    "    [1,1]]\n",
    "\n",
    "X_train =np.array(X)  #เปลี่ยน numpy to array\n",
    "\n",
    "y =[0,0,0,1]  #and gate\n",
    "#y =[0,1,1,1] #or gate\n",
    "#y= [0,1,1,0] #xor gate\n",
    "\n",
    "y_train = np.array(y)\n",
    "\n",
    "\n",
    "from sklearn.linear_model import Perceptron \n",
    "\n",
    "model = Perceptron(tol =1e-3,random_state = 0 ,verbose= False) #create Neroun\n",
    "model.fit(X_train,y_train)  #TRAIN\n",
    "\n",
    "print('Score: ' ,model.score(X_train,y_train))\n",
    "print('Predict', model.predict(X_train))\n",
    "print('target',np.array(y))"
   ]
  },
  {
   "cell_type": "code",
   "execution_count": 4,
   "id": "60fad6dc",
   "metadata": {},
   "outputs": [
    {
     "name": "stdout",
     "output_type": "stream",
     "text": [
      "Score:  1.0\n",
      "Predict [0 1 1 1]\n",
      "target [0 1 1 1]\n"
     ]
    }
   ],
   "source": [
    "import numpy as np \n",
    "\n",
    "X = [[0,0],\n",
    "    [0,1],\n",
    "    [1,0],\n",
    "    [1,1]]\n",
    "\n",
    "X_train =np.array(X)  #เปลี่ยน numpy to array\n",
    "\n",
    "#y =[0,0,0,1]  #and gate\n",
    "y =[0,1,1,1] #or gate\n",
    "#y= [0,1,1,0] #xor gate\n",
    "\n",
    "y_train = np.array(y)\n",
    "\n",
    "\n",
    "from sklearn.linear_model import Perceptron \n",
    "\n",
    "model = Perceptron(tol =1e-3,random_state = 0 ,verbose= False) #create Neroun\n",
    "model.fit(X_train,y_train)  #TRAIN\n",
    "\n",
    "print('Score: ' ,model.score(X_train,y_train))\n",
    "print('Predict', model.predict(X_train))\n",
    "print('target',np.array(y))"
   ]
  },
  {
   "cell_type": "code",
   "execution_count": 5,
   "id": "86a050a8",
   "metadata": {},
   "outputs": [
    {
     "name": "stdout",
     "output_type": "stream",
     "text": [
      "-- Epoch 1\n",
      "Norm: 0.00, NNZs: 0, Bias: -1.000000, T: 4, Avg. loss: 0.750000\n",
      "Total training time: 0.00 seconds.\n",
      "-- Epoch 2\n",
      "Norm: 1.41, NNZs: 2, Bias: 0.000000, T: 8, Avg. loss: 0.250000\n",
      "Total training time: 0.00 seconds.\n",
      "-- Epoch 3\n",
      "Norm: 0.00, NNZs: 0, Bias: -2.000000, T: 12, Avg. loss: 0.250000\n",
      "Total training time: 0.00 seconds.\n",
      "-- Epoch 4\n",
      "Norm: 1.41, NNZs: 2, Bias: -1.000000, T: 16, Avg. loss: 0.500000\n",
      "Total training time: 0.00 seconds.\n",
      "-- Epoch 5\n",
      "Norm: 1.00, NNZs: 1, Bias: -2.000000, T: 20, Avg. loss: 0.000000\n",
      "Total training time: 0.00 seconds.\n",
      "-- Epoch 6\n",
      "Norm: 2.24, NNZs: 2, Bias: -1.000000, T: 24, Avg. loss: 0.250000\n",
      "Total training time: 0.00 seconds.\n",
      "-- Epoch 7\n",
      "Norm: 1.00, NNZs: 1, Bias: -3.000000, T: 28, Avg. loss: 0.000000\n",
      "Total training time: 0.00 seconds.\n",
      "-- Epoch 8\n",
      "Norm: 2.24, NNZs: 2, Bias: -2.000000, T: 32, Avg. loss: 0.500000\n",
      "Total training time: 0.00 seconds.\n",
      "-- Epoch 9\n",
      "Norm: 1.41, NNZs: 2, Bias: -3.000000, T: 36, Avg. loss: 0.000000\n",
      "Total training time: 0.00 seconds.\n",
      "-- Epoch 10\n",
      "Norm: 2.83, NNZs: 2, Bias: -2.000000, T: 40, Avg. loss: 0.250000\n",
      "Total training time: 0.00 seconds.\n",
      "Convergence after 10 epochs took 0.00 seconds\n",
      "Score:  1.0\n",
      "Predict [0 0 0 1]\n",
      "target [0 0 0 1]\n"
     ]
    }
   ],
   "source": [
    "#Workshop 2 Backprogation\n",
    "#ดูละเอียดขึ้น\n",
    "import numpy as np \n",
    "\n",
    "X = [[0,0],\n",
    "    [0,1],\n",
    "    [1,0],\n",
    "    [1,1]]\n",
    "\n",
    "X_train =np.array(X)  #เปลี่ยน numpy to array\n",
    "\n",
    "y =[0,0,0,1]  #and gate\n",
    "#y =[0,1,1,1] #or gate\n",
    "#y= [0,1,1,0] #xor gate\n",
    "\n",
    "y_train = np.array(y)\n",
    "\n",
    "\n",
    "from sklearn.linear_model import Perceptron \n",
    "\n",
    "model = Perceptron(tol =1e-3,random_state = 0 ,verbose= True) #create Neroun\n",
    "model.fit(X_train,y_train)  #TRAIN\n",
    "\n",
    "print('Score: ' ,model.score(X_train,y_train))\n",
    "print('Predict', model.predict(X_train))\n",
    "print('target',np.array(y))"
   ]
  },
  {
   "cell_type": "code",
   "execution_count": 6,
   "id": "75b56a17",
   "metadata": {},
   "outputs": [
    {
     "name": "stdout",
     "output_type": "stream",
     "text": [
      "Score:  0.5\n",
      "Predict [0 0 0 0]\n",
      "target [0 1 1 0]\n"
     ]
    }
   ],
   "source": [
    "#Workshop3 XOR\n",
    "import numpy as np \n",
    "\n",
    "X = [[0,0],\n",
    "    [0,1],\n",
    "    [1,0],\n",
    "    [1,1]]\n",
    "\n",
    "X_train =np.array(X)  #เปลี่ยน numpy to array\n",
    "\n",
    "#y =[0,0,0,1]  #and gate\n",
    "#y =[0,1,1,1] #or gate\n",
    "y= [0,1,1,0] #xor gate\n",
    "\n",
    "y_train = np.array(y)\n",
    "\n",
    "\n",
    "from sklearn.linear_model import Perceptron \n",
    "\n",
    "model = Perceptron(tol =1e-3,random_state = 0 ,verbose= False) #create Neroun\n",
    "model.fit(X_train,y_train)  #TRAIN\n",
    "\n",
    "print('Score: ' ,model.score(X_train,y_train))\n",
    "print('Predict', model.predict(X_train))\n",
    "print('target',np.array(y))"
   ]
  },
  {
   "cell_type": "code",
   "execution_count": 7,
   "id": "20338b19",
   "metadata": {},
   "outputs": [
    {
     "name": "stdout",
     "output_type": "stream",
     "text": [
      "Iteration 1, loss = 0.66574364\n",
      "Iteration 2, loss = 0.66549566\n",
      "Iteration 3, loss = 0.66524810\n",
      "Iteration 4, loss = 0.66500098\n",
      "Iteration 5, loss = 0.66475429\n",
      "Iteration 6, loss = 0.66450805\n",
      "Iteration 7, loss = 0.66426224\n",
      "Iteration 8, loss = 0.66401688\n",
      "Iteration 9, loss = 0.66377195\n",
      "Iteration 10, loss = 0.66352746\n",
      "Iteration 11, loss = 0.66328338\n",
      "Iteration 12, loss = 0.66303971\n",
      "Iteration 13, loss = 0.66279645\n",
      "Iteration 14, loss = 0.66252332\n",
      "Iteration 15, loss = 0.66223623\n",
      "Iteration 16, loss = 0.66193912\n",
      "Iteration 17, loss = 0.66163513\n",
      "Iteration 18, loss = 0.66132621\n",
      "Iteration 19, loss = 0.66101367\n",
      "Iteration 20, loss = 0.66069845\n",
      "Iteration 21, loss = 0.66038127\n",
      "Iteration 22, loss = 0.66006264\n",
      "Iteration 23, loss = 0.65974300\n",
      "Iteration 24, loss = 0.65942265\n",
      "Iteration 25, loss = 0.65910188\n",
      "Iteration 26, loss = 0.65878090\n",
      "Iteration 27, loss = 0.65845989\n",
      "Iteration 28, loss = 0.65813900\n",
      "Iteration 29, loss = 0.65781835\n",
      "Iteration 30, loss = 0.65749805\n",
      "Iteration 31, loss = 0.65717821\n",
      "Iteration 32, loss = 0.65685890\n",
      "Iteration 33, loss = 0.65654019\n",
      "Iteration 34, loss = 0.65622216\n",
      "Iteration 35, loss = 0.65590484\n",
      "Iteration 36, loss = 0.65558829\n",
      "Iteration 37, loss = 0.65527255\n",
      "Iteration 38, loss = 0.65495765\n",
      "Iteration 39, loss = 0.65464363\n",
      "Iteration 40, loss = 0.65433050\n",
      "Iteration 41, loss = 0.65401828\n",
      "Iteration 42, loss = 0.65370699\n",
      "Iteration 43, loss = 0.65339663\n",
      "Iteration 44, loss = 0.65308722\n",
      "Iteration 45, loss = 0.65277875\n",
      "Iteration 46, loss = 0.65247123\n",
      "Iteration 47, loss = 0.65216464\n",
      "Iteration 48, loss = 0.65185899\n",
      "Iteration 49, loss = 0.65155426\n",
      "Iteration 50, loss = 0.65125045\n",
      "Iteration 51, loss = 0.65094754\n",
      "Iteration 52, loss = 0.65064552\n",
      "Iteration 53, loss = 0.65034439\n",
      "Iteration 54, loss = 0.65004412\n",
      "Iteration 55, loss = 0.64974470\n",
      "Iteration 56, loss = 0.64944612\n",
      "Iteration 57, loss = 0.64914837\n",
      "Iteration 58, loss = 0.64885142\n",
      "Iteration 59, loss = 0.64855526\n",
      "Iteration 60, loss = 0.64825989\n",
      "Iteration 61, loss = 0.64796528\n",
      "Iteration 62, loss = 0.64767143\n",
      "Iteration 63, loss = 0.64737831\n",
      "Iteration 64, loss = 0.64708592\n",
      "Iteration 65, loss = 0.64679423\n",
      "Iteration 66, loss = 0.64650324\n",
      "Iteration 67, loss = 0.64621293\n",
      "Iteration 68, loss = 0.64592329\n",
      "Iteration 69, loss = 0.64563429\n",
      "Iteration 70, loss = 0.64534594\n",
      "Iteration 71, loss = 0.64505821\n",
      "Iteration 72, loss = 0.64477108\n",
      "Iteration 73, loss = 0.64448455\n",
      "Iteration 74, loss = 0.64419859\n",
      "Iteration 75, loss = 0.64391320\n",
      "Iteration 76, loss = 0.64362835\n",
      "Iteration 77, loss = 0.64337229\n",
      "Iteration 78, loss = 0.64313125\n",
      "Iteration 79, loss = 0.64284477\n",
      "Iteration 80, loss = 0.64255400\n",
      "Iteration 81, loss = 0.64229660\n",
      "Iteration 82, loss = 0.64203798\n",
      "Iteration 83, loss = 0.64177824\n",
      "Iteration 84, loss = 0.64151748\n",
      "Iteration 85, loss = 0.64125577\n",
      "Iteration 86, loss = 0.64099321\n",
      "Iteration 87, loss = 0.64072989\n",
      "Iteration 88, loss = 0.64046588\n",
      "Iteration 89, loss = 0.64020126\n",
      "Iteration 90, loss = 0.63993610\n",
      "Iteration 91, loss = 0.63967049\n",
      "Iteration 92, loss = 0.63941570\n",
      "Iteration 93, loss = 0.63915074\n",
      "Iteration 94, loss = 0.63889522\n",
      "Iteration 95, loss = 0.63864237\n",
      "Iteration 96, loss = 0.63838819\n",
      "Iteration 97, loss = 0.63813280\n",
      "Iteration 98, loss = 0.63787633\n",
      "Iteration 99, loss = 0.63761888\n",
      "Iteration 100, loss = 0.63736054\n",
      "Iteration 101, loss = 0.63710141\n",
      "Iteration 102, loss = 0.63684157\n",
      "Iteration 103, loss = 0.63658107\n",
      "Iteration 104, loss = 0.63632933\n",
      "Iteration 105, loss = 0.63606679\n",
      "Iteration 106, loss = 0.63581864\n",
      "Iteration 107, loss = 0.63556936\n",
      "Iteration 108, loss = 0.63531857\n",
      "Iteration 109, loss = 0.63506640\n",
      "Iteration 110, loss = 0.63481296\n",
      "Iteration 111, loss = 0.63455836\n",
      "Iteration 112, loss = 0.63434689\n",
      "Iteration 113, loss = 0.63418409\n",
      "Iteration 114, loss = 0.63402022\n",
      "Iteration 115, loss = 0.63385535\n",
      "Iteration 116, loss = 0.63369104\n",
      "Iteration 117, loss = 0.63353059\n",
      "Iteration 118, loss = 0.63337015\n",
      "Iteration 119, loss = 0.63321090\n",
      "Iteration 120, loss = 0.63305262\n",
      "Iteration 121, loss = 0.63289510\n",
      "Iteration 122, loss = 0.63273593\n",
      "Iteration 123, loss = 0.63257523\n",
      "Iteration 124, loss = 0.63241312\n",
      "Iteration 125, loss = 0.63224971\n",
      "Iteration 126, loss = 0.63208511\n",
      "Iteration 127, loss = 0.63192816\n",
      "Iteration 128, loss = 0.63176015\n",
      "Iteration 129, loss = 0.63159929\n",
      "Iteration 130, loss = 0.63143694\n",
      "Iteration 131, loss = 0.63127665\n",
      "Iteration 132, loss = 0.63111556\n",
      "Iteration 133, loss = 0.63095608\n",
      "Iteration 134, loss = 0.63079493\n",
      "Iteration 135, loss = 0.63063225\n",
      "Iteration 136, loss = 0.63046815\n",
      "Iteration 137, loss = 0.63030274\n",
      "Iteration 138, loss = 0.63013612\n",
      "Iteration 139, loss = 0.62999335\n",
      "Iteration 140, loss = 0.62982056\n",
      "Iteration 141, loss = 0.62965126\n",
      "Iteration 142, loss = 0.62949335\n",
      "Iteration 143, loss = 0.62933350\n",
      "Iteration 144, loss = 0.62917185\n",
      "Iteration 145, loss = 0.62900854\n",
      "Iteration 146, loss = 0.62884370\n",
      "Iteration 147, loss = 0.62867744\n",
      "Iteration 148, loss = 0.62850988\n",
      "Iteration 149, loss = 0.62834109\n",
      "Iteration 150, loss = 0.62817119\n",
      "Iteration 151, loss = 0.62801697\n",
      "Iteration 152, loss = 0.62784815\n",
      "Iteration 153, loss = 0.62767744\n",
      "Iteration 154, loss = 0.62751682\n",
      "Iteration 155, loss = 0.62735427\n",
      "Iteration 156, loss = 0.62718995\n",
      "Iteration 157, loss = 0.62702398\n",
      "Iteration 158, loss = 0.62685650\n",
      "Iteration 159, loss = 0.62668763\n",
      "Iteration 160, loss = 0.62651745\n",
      "Iteration 161, loss = 0.62634609\n",
      "Iteration 162, loss = 0.62620421\n",
      "Iteration 163, loss = 0.62603338\n",
      "Iteration 164, loss = 0.62584792\n",
      "Iteration 165, loss = 0.62568582\n",
      "Iteration 166, loss = 0.62552172\n",
      "Iteration 167, loss = 0.62535578\n",
      "Iteration 168, loss = 0.62518815\n",
      "Iteration 169, loss = 0.62501896\n",
      "Iteration 170, loss = 0.62484833\n",
      "Iteration 171, loss = 0.62467637\n",
      "Iteration 172, loss = 0.62451860\n",
      "Iteration 173, loss = 0.62434374\n",
      "Iteration 174, loss = 0.62417601\n",
      "Iteration 175, loss = 0.62401305\n",
      "Iteration 176, loss = 0.62384800\n",
      "Iteration 177, loss = 0.62368103\n",
      "Iteration 178, loss = 0.62351228\n",
      "Iteration 179, loss = 0.62334190\n",
      "Iteration 180, loss = 0.62317001\n",
      "Iteration 181, loss = 0.62299674\n",
      "Iteration 182, loss = 0.62282219\n",
      "Iteration 183, loss = 0.62266407\n",
      "Iteration 184, loss = 0.62249155\n",
      "Iteration 185, loss = 0.62231483\n",
      "Iteration 186, loss = 0.62214975\n",
      "Iteration 187, loss = 0.62198257\n",
      "Iteration 188, loss = 0.62181346\n",
      "Iteration 189, loss = 0.62164258\n",
      "Iteration 190, loss = 0.62147007\n",
      "Iteration 191, loss = 0.62129605\n",
      "Iteration 192, loss = 0.62121647\n",
      "Iteration 193, loss = 0.62100793\n",
      "Iteration 194, loss = 0.62086931\n",
      "Iteration 195, loss = 0.62070251\n",
      "Iteration 196, loss = 0.62051100\n",
      "Iteration 197, loss = 0.62033733\n",
      "Iteration 198, loss = 0.62016544\n",
      "Iteration 199, loss = 0.62001151\n",
      "Iteration 200, loss = 0.61985419\n",
      "score 0.75\n",
      "Predict [0 0 1 0]\n",
      "Target [0 1 1 0]\n",
      "Loop 200\n"
     ]
    },
    {
     "name": "stderr",
     "output_type": "stream",
     "text": [
      "D:\\Ancondas\\lib\\site-packages\\sklearn\\neural_network\\_multilayer_perceptron.py:692: ConvergenceWarning: Stochastic Optimizer: Maximum iterations (200) reached and the optimization hasn't converged yet.\n",
      "  warnings.warn(\n"
     ]
    }
   ],
   "source": [
    "#Workshop4 Xor gate MLP \n",
    "\n",
    "import numpy as np \n",
    "X=[[0,0],\n",
    "   [0,1],\n",
    "   [1,0],\n",
    "   [1,1]\n",
    "]\n",
    "\n",
    "X_train = np.array(X)\n",
    "\n",
    "y = [0,1,1,0]\n",
    "y_train =np.array(y)\n",
    "\n",
    "from sklearn.neural_network import MLPClassifier\n",
    "model =MLPClassifier(hidden_layer_sizes=(4),random_state=1,verbose=True) #Create NN \n",
    "\n",
    "model.fit(X_train,y_train)\n",
    "print('score',model.score(X_train,y_train))\n",
    "print('Predict',model.predict(X_train))\n",
    "print('Target',np.array(y_train))\n",
    "print('Loop',model.max_iter)\n",
    "\n"
   ]
  },
  {
   "cell_type": "code",
   "execution_count": 8,
   "id": "3a56fac9",
   "metadata": {},
   "outputs": [
    {
     "name": "stdout",
     "output_type": "stream",
     "text": [
      "Iteration 1, loss = 0.66574364\n",
      "Iteration 2, loss = 0.66549566\n",
      "Iteration 3, loss = 0.66524810\n",
      "Iteration 4, loss = 0.66500098\n",
      "Iteration 5, loss = 0.66475429\n",
      "Iteration 6, loss = 0.66450805\n",
      "Iteration 7, loss = 0.66426224\n",
      "Iteration 8, loss = 0.66401688\n",
      "Iteration 9, loss = 0.66377195\n",
      "Iteration 10, loss = 0.66352746\n",
      "Iteration 11, loss = 0.66328338\n",
      "Iteration 12, loss = 0.66303971\n",
      "Iteration 13, loss = 0.66279645\n",
      "Iteration 14, loss = 0.66252332\n",
      "Iteration 15, loss = 0.66223623\n",
      "Iteration 16, loss = 0.66193912\n",
      "Iteration 17, loss = 0.66163513\n",
      "Iteration 18, loss = 0.66132621\n",
      "Iteration 19, loss = 0.66101367\n",
      "Iteration 20, loss = 0.66069845\n",
      "Iteration 21, loss = 0.66038127\n",
      "Iteration 22, loss = 0.66006264\n",
      "Iteration 23, loss = 0.65974300\n",
      "Iteration 24, loss = 0.65942265\n",
      "Iteration 25, loss = 0.65910188\n",
      "Iteration 26, loss = 0.65878090\n",
      "Iteration 27, loss = 0.65845989\n",
      "Iteration 28, loss = 0.65813900\n",
      "Iteration 29, loss = 0.65781835\n",
      "Iteration 30, loss = 0.65749805\n",
      "Iteration 31, loss = 0.65717821\n",
      "Iteration 32, loss = 0.65685890\n",
      "Iteration 33, loss = 0.65654019\n",
      "Iteration 34, loss = 0.65622216\n",
      "Iteration 35, loss = 0.65590484\n",
      "Iteration 36, loss = 0.65558829\n",
      "Iteration 37, loss = 0.65527255\n",
      "Iteration 38, loss = 0.65495765\n",
      "Iteration 39, loss = 0.65464363\n",
      "Iteration 40, loss = 0.65433050\n",
      "Iteration 41, loss = 0.65401828\n",
      "Iteration 42, loss = 0.65370699\n",
      "Iteration 43, loss = 0.65339663\n",
      "Iteration 44, loss = 0.65308722\n",
      "Iteration 45, loss = 0.65277875\n",
      "Iteration 46, loss = 0.65247123\n",
      "Iteration 47, loss = 0.65216464\n",
      "Iteration 48, loss = 0.65185899\n",
      "Iteration 49, loss = 0.65155426\n",
      "Iteration 50, loss = 0.65125045\n",
      "Iteration 51, loss = 0.65094754\n",
      "Iteration 52, loss = 0.65064552\n",
      "Iteration 53, loss = 0.65034439\n",
      "Iteration 54, loss = 0.65004412\n",
      "Iteration 55, loss = 0.64974470\n",
      "Iteration 56, loss = 0.64944612\n",
      "Iteration 57, loss = 0.64914837\n",
      "Iteration 58, loss = 0.64885142\n",
      "Iteration 59, loss = 0.64855526\n",
      "Iteration 60, loss = 0.64825989\n",
      "Iteration 61, loss = 0.64796528\n",
      "Iteration 62, loss = 0.64767143\n",
      "Iteration 63, loss = 0.64737831\n",
      "Iteration 64, loss = 0.64708592\n",
      "Iteration 65, loss = 0.64679423\n",
      "Iteration 66, loss = 0.64650324\n",
      "Iteration 67, loss = 0.64621293\n",
      "Iteration 68, loss = 0.64592329\n",
      "Iteration 69, loss = 0.64563429\n",
      "Iteration 70, loss = 0.64534594\n",
      "Iteration 71, loss = 0.64505821\n",
      "Iteration 72, loss = 0.64477108\n",
      "Iteration 73, loss = 0.64448455\n",
      "Iteration 74, loss = 0.64419859\n",
      "Iteration 75, loss = 0.64391320\n",
      "Iteration 76, loss = 0.64362835\n",
      "Iteration 77, loss = 0.64337229\n",
      "Iteration 78, loss = 0.64313125\n",
      "Iteration 79, loss = 0.64284477\n",
      "Iteration 80, loss = 0.64255400\n",
      "Iteration 81, loss = 0.64229660\n",
      "Iteration 82, loss = 0.64203798\n",
      "Iteration 83, loss = 0.64177824\n",
      "Iteration 84, loss = 0.64151748\n",
      "Iteration 85, loss = 0.64125577\n",
      "Iteration 86, loss = 0.64099321\n",
      "Iteration 87, loss = 0.64072989\n",
      "Iteration 88, loss = 0.64046588\n",
      "Iteration 89, loss = 0.64020126\n",
      "Iteration 90, loss = 0.63993610\n",
      "Iteration 91, loss = 0.63967049\n",
      "Iteration 92, loss = 0.63941570\n",
      "Iteration 93, loss = 0.63915074\n",
      "Iteration 94, loss = 0.63889522\n",
      "Iteration 95, loss = 0.63864237\n",
      "Iteration 96, loss = 0.63838819\n",
      "Iteration 97, loss = 0.63813280\n",
      "Iteration 98, loss = 0.63787633\n",
      "Iteration 99, loss = 0.63761888\n",
      "Iteration 100, loss = 0.63736054\n",
      "Iteration 101, loss = 0.63710141\n",
      "Iteration 102, loss = 0.63684157\n",
      "Iteration 103, loss = 0.63658107\n",
      "Iteration 104, loss = 0.63632933\n",
      "Iteration 105, loss = 0.63606679\n",
      "Iteration 106, loss = 0.63581864\n",
      "Iteration 107, loss = 0.63556936\n",
      "Iteration 108, loss = 0.63531857\n",
      "Iteration 109, loss = 0.63506640\n",
      "Iteration 110, loss = 0.63481296\n",
      "Iteration 111, loss = 0.63455836\n",
      "Iteration 112, loss = 0.63434689\n",
      "Iteration 113, loss = 0.63418409\n",
      "Iteration 114, loss = 0.63402022\n",
      "Iteration 115, loss = 0.63385535\n",
      "Iteration 116, loss = 0.63369104\n",
      "Iteration 117, loss = 0.63353059\n",
      "Iteration 118, loss = 0.63337015\n",
      "Iteration 119, loss = 0.63321090\n",
      "Iteration 120, loss = 0.63305262\n",
      "Iteration 121, loss = 0.63289510\n",
      "Iteration 122, loss = 0.63273593\n",
      "Iteration 123, loss = 0.63257523\n",
      "Iteration 124, loss = 0.63241312\n",
      "Iteration 125, loss = 0.63224971\n",
      "Iteration 126, loss = 0.63208511\n",
      "Iteration 127, loss = 0.63192816\n",
      "Iteration 128, loss = 0.63176015\n",
      "Iteration 129, loss = 0.63159929\n",
      "Iteration 130, loss = 0.63143694\n",
      "Iteration 131, loss = 0.63127665\n",
      "Iteration 132, loss = 0.63111556\n",
      "Iteration 133, loss = 0.63095608\n",
      "Iteration 134, loss = 0.63079493\n",
      "Iteration 135, loss = 0.63063225\n",
      "Iteration 136, loss = 0.63046815\n",
      "Iteration 137, loss = 0.63030274\n",
      "Iteration 138, loss = 0.63013612\n",
      "Iteration 139, loss = 0.62999335\n",
      "Iteration 140, loss = 0.62982056\n",
      "Iteration 141, loss = 0.62965126\n",
      "Iteration 142, loss = 0.62949335\n",
      "Iteration 143, loss = 0.62933350\n",
      "Iteration 144, loss = 0.62917185\n",
      "Iteration 145, loss = 0.62900854\n",
      "Iteration 146, loss = 0.62884370\n",
      "Iteration 147, loss = 0.62867744\n",
      "Iteration 148, loss = 0.62850988\n",
      "Iteration 149, loss = 0.62834109\n",
      "Iteration 150, loss = 0.62817119\n",
      "Iteration 151, loss = 0.62801697\n",
      "Iteration 152, loss = 0.62784815\n",
      "Iteration 153, loss = 0.62767744\n",
      "Iteration 154, loss = 0.62751682\n",
      "Iteration 155, loss = 0.62735427\n",
      "Iteration 156, loss = 0.62718995\n",
      "Iteration 157, loss = 0.62702398\n",
      "Iteration 158, loss = 0.62685650\n",
      "Iteration 159, loss = 0.62668763\n",
      "Iteration 160, loss = 0.62651745\n",
      "Iteration 161, loss = 0.62634609\n",
      "Iteration 162, loss = 0.62620421\n",
      "Iteration 163, loss = 0.62603338\n",
      "Iteration 164, loss = 0.62584792\n",
      "Iteration 165, loss = 0.62568582\n",
      "Iteration 166, loss = 0.62552172\n",
      "Iteration 167, loss = 0.62535578\n",
      "Iteration 168, loss = 0.62518815\n",
      "Iteration 169, loss = 0.62501896\n",
      "Iteration 170, loss = 0.62484833\n",
      "Iteration 171, loss = 0.62467637\n",
      "Iteration 172, loss = 0.62451860\n",
      "Iteration 173, loss = 0.62434374\n",
      "Iteration 174, loss = 0.62417601\n",
      "Iteration 175, loss = 0.62401305\n",
      "Iteration 176, loss = 0.62384800\n",
      "Iteration 177, loss = 0.62368103\n",
      "Iteration 178, loss = 0.62351228\n",
      "Iteration 179, loss = 0.62334190\n",
      "Iteration 180, loss = 0.62317001\n",
      "Iteration 181, loss = 0.62299674\n",
      "Iteration 182, loss = 0.62282219\n",
      "Iteration 183, loss = 0.62266407\n",
      "Iteration 184, loss = 0.62249155\n",
      "Iteration 185, loss = 0.62231483\n",
      "Iteration 186, loss = 0.62214975\n",
      "Iteration 187, loss = 0.62198257\n",
      "Iteration 188, loss = 0.62181346\n",
      "Iteration 189, loss = 0.62164258\n",
      "Iteration 190, loss = 0.62147007\n",
      "Iteration 191, loss = 0.62129605\n",
      "Iteration 192, loss = 0.62121647\n",
      "Iteration 193, loss = 0.62100793\n",
      "Iteration 194, loss = 0.62086931\n",
      "Iteration 195, loss = 0.62070251\n",
      "Iteration 196, loss = 0.62051100\n",
      "Iteration 197, loss = 0.62033733\n",
      "Iteration 198, loss = 0.62016544\n",
      "Iteration 199, loss = 0.62001151\n",
      "Iteration 200, loss = 0.61985419\n",
      "Iteration 201, loss = 0.61969378\n",
      "Iteration 202, loss = 0.61953057\n",
      "Iteration 203, loss = 0.61938219\n",
      "Iteration 204, loss = 0.61921258\n",
      "Iteration 205, loss = 0.61904815\n",
      "Iteration 206, loss = 0.61888889\n",
      "Iteration 207, loss = 0.61872668\n",
      "Iteration 208, loss = 0.61860206\n",
      "Iteration 209, loss = 0.61839949\n",
      "Iteration 210, loss = 0.61823443\n",
      "Iteration 211, loss = 0.61810465\n",
      "Iteration 212, loss = 0.61795154\n",
      "Iteration 213, loss = 0.61777404\n",
      "Iteration 214, loss = 0.61759277\n",
      "Iteration 215, loss = 0.61746044\n",
      "Iteration 216, loss = 0.61728000\n",
      "Iteration 217, loss = 0.61712108\n",
      "Iteration 218, loss = 0.61695898\n",
      "Iteration 219, loss = 0.61681581\n",
      "Iteration 220, loss = 0.61665204\n",
      "Iteration 221, loss = 0.61647745\n",
      "Iteration 222, loss = 0.61631781\n",
      "Iteration 223, loss = 0.61620051\n",
      "Iteration 224, loss = 0.61599485\n",
      "Iteration 225, loss = 0.61585153\n",
      "Iteration 226, loss = 0.61569585\n",
      "Iteration 227, loss = 0.61551740\n",
      "Iteration 228, loss = 0.61538870\n",
      "Iteration 229, loss = 0.61521533\n",
      "Iteration 230, loss = 0.61506098\n",
      "Iteration 231, loss = 0.61490284\n",
      "Iteration 232, loss = 0.61474126\n",
      "Iteration 233, loss = 0.61457656\n",
      "Iteration 234, loss = 0.61443523\n",
      "Iteration 235, loss = 0.61427028\n",
      "Iteration 236, loss = 0.61408719\n",
      "Iteration 237, loss = 0.61398398\n",
      "Iteration 238, loss = 0.61378474\n",
      "Iteration 239, loss = 0.61363986\n",
      "Iteration 240, loss = 0.61348878\n",
      "Iteration 241, loss = 0.61332265\n",
      "Iteration 242, loss = 0.61317272\n",
      "Iteration 243, loss = 0.61301839\n",
      "Iteration 244, loss = 0.61286007\n",
      "Iteration 245, loss = 0.61269812\n",
      "Iteration 246, loss = 0.61253288\n",
      "Iteration 247, loss = 0.61236465\n",
      "Iteration 248, loss = 0.61221718\n",
      "Iteration 249, loss = 0.61204708\n",
      "Iteration 250, loss = 0.61194278\n",
      "Iteration 251, loss = 0.61176932\n",
      "Iteration 252, loss = 0.61157364\n",
      "Iteration 253, loss = 0.61141503\n",
      "Iteration 254, loss = 0.61126409\n",
      "Iteration 255, loss = 0.61111396\n",
      "Iteration 256, loss = 0.61095925\n",
      "Iteration 257, loss = 0.61081065\n",
      "Iteration 258, loss = 0.61064370\n",
      "Iteration 259, loss = 0.61048297\n",
      "Iteration 260, loss = 0.61035081\n",
      "Iteration 261, loss = 0.61020099\n",
      "Iteration 262, loss = 0.61002919\n",
      "Iteration 263, loss = 0.60984744\n",
      "Iteration 264, loss = 0.60968937\n",
      "Iteration 265, loss = 0.60957355\n",
      "Iteration 266, loss = 0.60938051\n",
      "Iteration 267, loss = 0.60923323\n",
      "Iteration 268, loss = 0.60910445\n",
      "Iteration 269, loss = 0.60895215\n",
      "Iteration 270, loss = 0.60877883\n",
      "Iteration 271, loss = 0.60860946\n",
      "Iteration 272, loss = 0.60845753\n",
      "Iteration 273, loss = 0.60830100\n",
      "Iteration 274, loss = 0.60814029\n",
      "Iteration 275, loss = 0.60802183\n",
      "Iteration 276, loss = 0.60781890\n",
      "Iteration 277, loss = 0.60765506\n",
      "Iteration 278, loss = 0.60754945\n",
      "Iteration 279, loss = 0.60742364\n",
      "Iteration 280, loss = 0.60727445\n",
      "Iteration 281, loss = 0.60710435\n",
      "Iteration 282, loss = 0.60691554\n",
      "Iteration 283, loss = 0.60672152\n",
      "Iteration 284, loss = 0.60656746\n",
      "Iteration 285, loss = 0.60642341\n",
      "Iteration 286, loss = 0.60625251\n",
      "Iteration 287, loss = 0.60609174\n",
      "Iteration 288, loss = 0.60592696\n",
      "Iteration 289, loss = 0.60575856\n",
      "Iteration 290, loss = 0.60560010\n",
      "Iteration 291, loss = 0.60545768\n",
      "Iteration 292, loss = 0.60530474\n",
      "Iteration 293, loss = 0.60513141\n",
      "Iteration 294, loss = 0.60501180\n",
      "Iteration 295, loss = 0.60483280\n",
      "Iteration 296, loss = 0.60467359\n",
      "Iteration 297, loss = 0.60453461\n",
      "Iteration 298, loss = 0.60437430\n",
      "Iteration 299, loss = 0.60422285\n",
      "Iteration 300, loss = 0.60407278\n",
      "Iteration 301, loss = 0.60391751\n",
      "Iteration 302, loss = 0.60375752\n",
      "Iteration 303, loss = 0.60359326\n",
      "Iteration 304, loss = 0.60342512\n",
      "Iteration 305, loss = 0.60328286\n",
      "Iteration 306, loss = 0.60308523\n",
      "Iteration 307, loss = 0.60296411\n",
      "Iteration 308, loss = 0.60281983\n",
      "Iteration 309, loss = 0.60265476\n",
      "Iteration 310, loss = 0.60252132\n",
      "Iteration 311, loss = 0.60236020\n",
      "Iteration 312, loss = 0.60216184\n",
      "Iteration 313, loss = 0.60201593\n",
      "Iteration 314, loss = 0.60185877\n",
      "Iteration 315, loss = 0.60171750\n",
      "Iteration 316, loss = 0.60156984\n",
      "Iteration 317, loss = 0.60141640\n",
      "Iteration 318, loss = 0.60125774\n",
      "Iteration 319, loss = 0.60110001\n",
      "Iteration 320, loss = 0.60093429\n",
      "Iteration 321, loss = 0.60076964\n",
      "Iteration 322, loss = 0.60060735\n",
      "Iteration 323, loss = 0.60043592\n",
      "Iteration 324, loss = 0.60027366\n",
      "Iteration 325, loss = 0.60011607\n",
      "Iteration 326, loss = 0.59996185\n",
      "Iteration 327, loss = 0.59981493\n",
      "Iteration 328, loss = 0.59965080\n",
      "Iteration 329, loss = 0.59948743\n",
      "Iteration 330, loss = 0.59933741\n",
      "Iteration 331, loss = 0.59918344\n",
      "Iteration 332, loss = 0.59904109\n",
      "Iteration 333, loss = 0.59887898\n",
      "Iteration 334, loss = 0.59871358\n",
      "Iteration 335, loss = 0.59855425\n",
      "Iteration 336, loss = 0.59842848\n",
      "Iteration 337, loss = 0.59822996\n",
      "Iteration 338, loss = 0.59811769\n",
      "Iteration 339, loss = 0.59799316\n",
      "Iteration 340, loss = 0.59784624\n",
      "Iteration 341, loss = 0.59767922\n",
      "Iteration 342, loss = 0.59749419\n",
      "Iteration 343, loss = 0.59730480\n",
      "Iteration 344, loss = 0.59715056\n",
      "Iteration 345, loss = 0.59699698\n",
      "Iteration 346, loss = 0.59683806\n",
      "Iteration 347, loss = 0.59667405\n",
      "Iteration 348, loss = 0.59650543\n",
      "Iteration 349, loss = 0.59635362\n",
      "Iteration 350, loss = 0.59621449\n",
      "Iteration 351, loss = 0.59606017\n",
      "Iteration 352, loss = 0.59588657\n",
      "Iteration 353, loss = 0.59576452\n",
      "Iteration 354, loss = 0.59559062\n",
      "Iteration 355, loss = 0.59542867\n",
      "Iteration 356, loss = 0.59528993\n",
      "Iteration 357, loss = 0.59513066\n",
      "Iteration 358, loss = 0.59495296\n",
      "Iteration 359, loss = 0.59480554\n",
      "Iteration 360, loss = 0.59466096\n",
      "Iteration 361, loss = 0.59450236\n",
      "Iteration 362, loss = 0.59434511\n",
      "Iteration 363, loss = 0.59418238\n",
      "Iteration 364, loss = 0.59401468\n",
      "Iteration 365, loss = 0.59384249\n",
      "Iteration 366, loss = 0.59369657\n",
      "Iteration 367, loss = 0.59353886\n",
      "Iteration 368, loss = 0.59338662\n",
      "Iteration 369, loss = 0.59323543\n",
      "Iteration 370, loss = 0.59306873\n",
      "Iteration 371, loss = 0.59289845\n",
      "Iteration 372, loss = 0.59276397\n",
      "Iteration 373, loss = 0.59258527\n",
      "Iteration 374, loss = 0.59243234\n",
      "Iteration 375, loss = 0.59227328\n",
      "Iteration 376, loss = 0.59212543\n",
      "Iteration 377, loss = 0.59196115\n",
      "Iteration 378, loss = 0.59179450\n",
      "Iteration 379, loss = 0.59163530\n",
      "Iteration 380, loss = 0.59147592\n",
      "Iteration 381, loss = 0.59131482\n",
      "Iteration 382, loss = 0.59117229\n",
      "Iteration 383, loss = 0.59101062\n",
      "Iteration 384, loss = 0.59084790\n",
      "Iteration 385, loss = 0.59071282\n",
      "Iteration 386, loss = 0.59053376\n",
      "Iteration 387, loss = 0.59038332\n",
      "Iteration 388, loss = 0.59022177\n",
      "Iteration 389, loss = 0.59006623\n",
      "Iteration 390, loss = 0.58994078\n",
      "Iteration 391, loss = 0.58974767\n",
      "Iteration 392, loss = 0.58959284\n",
      "Iteration 393, loss = 0.58943539\n",
      "Iteration 394, loss = 0.58927387\n",
      "Iteration 395, loss = 0.58912137\n",
      "Iteration 396, loss = 0.58896298\n",
      "Iteration 397, loss = 0.58879589\n",
      "Iteration 398, loss = 0.58866710\n",
      "Iteration 399, loss = 0.58847889\n",
      "Iteration 400, loss = 0.58832324\n",
      "Iteration 401, loss = 0.58817014\n",
      "Iteration 402, loss = 0.58801267\n",
      "Iteration 403, loss = 0.58787567\n",
      "Iteration 404, loss = 0.58771880\n",
      "Iteration 405, loss = 0.58754388\n",
      "Iteration 406, loss = 0.58738535\n",
      "Iteration 407, loss = 0.58728508\n",
      "Iteration 408, loss = 0.58710496\n",
      "Iteration 409, loss = 0.58690807\n",
      "Iteration 410, loss = 0.58679056\n",
      "Iteration 411, loss = 0.58665279\n",
      "Iteration 412, loss = 0.58649516\n",
      "Iteration 413, loss = 0.58631970\n",
      "Iteration 414, loss = 0.58612824\n",
      "Iteration 415, loss = 0.58597184\n",
      "Iteration 416, loss = 0.58582337\n",
      "Iteration 417, loss = 0.58565362\n",
      "Iteration 418, loss = 0.58549551\n",
      "Iteration 419, loss = 0.58534428\n",
      "Iteration 420, loss = 0.58518209\n",
      "Iteration 421, loss = 0.58502037\n",
      "Iteration 422, loss = 0.58485270\n",
      "Iteration 423, loss = 0.58468434\n",
      "Iteration 424, loss = 0.58453478\n",
      "Iteration 425, loss = 0.58436817\n",
      "Iteration 426, loss = 0.58423731\n",
      "Iteration 427, loss = 0.58408896\n",
      "Iteration 428, loss = 0.58392200\n",
      "Iteration 429, loss = 0.58373833\n",
      "Iteration 430, loss = 0.58359091\n",
      "Iteration 431, loss = 0.58342547\n",
      "Iteration 432, loss = 0.58326956\n",
      "Iteration 433, loss = 0.58312899\n",
      "Iteration 434, loss = 0.58298212\n",
      "Iteration 435, loss = 0.58281663\n",
      "Iteration 436, loss = 0.58264684\n",
      "Iteration 437, loss = 0.58248673\n",
      "Iteration 438, loss = 0.58232023\n",
      "Iteration 439, loss = 0.58214793\n",
      "Iteration 440, loss = 0.58199823\n",
      "Iteration 441, loss = 0.58181383\n",
      "Iteration 442, loss = 0.58166215\n",
      "Iteration 443, loss = 0.58152633\n",
      "Iteration 444, loss = 0.58135541\n",
      "Iteration 445, loss = 0.58120037\n"
     ]
    },
    {
     "name": "stdout",
     "output_type": "stream",
     "text": [
      "Iteration 446, loss = 0.58104227\n",
      "Iteration 447, loss = 0.58086661\n",
      "Iteration 448, loss = 0.58070449\n",
      "Iteration 449, loss = 0.58057125\n",
      "Iteration 450, loss = 0.58039514\n",
      "Iteration 451, loss = 0.58023303\n",
      "Iteration 452, loss = 0.58006437\n",
      "Iteration 453, loss = 0.57990031\n",
      "Iteration 454, loss = 0.57973562\n",
      "Iteration 455, loss = 0.57957376\n",
      "Iteration 456, loss = 0.57941365\n",
      "Iteration 457, loss = 0.57926138\n",
      "Iteration 458, loss = 0.57911219\n",
      "Iteration 459, loss = 0.57894457\n",
      "Iteration 460, loss = 0.57877045\n",
      "Iteration 461, loss = 0.57860972\n",
      "Iteration 462, loss = 0.57847039\n",
      "Iteration 463, loss = 0.57827514\n",
      "Iteration 464, loss = 0.57812630\n",
      "Iteration 465, loss = 0.57796753\n",
      "Iteration 466, loss = 0.57780009\n",
      "Iteration 467, loss = 0.57763210\n",
      "Iteration 468, loss = 0.57747056\n",
      "Iteration 469, loss = 0.57730440\n",
      "Iteration 470, loss = 0.57714868\n",
      "Iteration 471, loss = 0.57698532\n",
      "Iteration 472, loss = 0.57682832\n",
      "Iteration 473, loss = 0.57665603\n",
      "Iteration 474, loss = 0.57651696\n",
      "Iteration 475, loss = 0.57632946\n",
      "Iteration 476, loss = 0.57619973\n",
      "Iteration 477, loss = 0.57606102\n",
      "Iteration 478, loss = 0.57590275\n",
      "Iteration 479, loss = 0.57572689\n",
      "Iteration 480, loss = 0.57553522\n",
      "Iteration 481, loss = 0.57536188\n",
      "Iteration 482, loss = 0.57526813\n",
      "Iteration 483, loss = 0.57509794\n",
      "Iteration 484, loss = 0.57487219\n",
      "Iteration 485, loss = 0.57471530\n",
      "Iteration 486, loss = 0.57456697\n",
      "Iteration 487, loss = 0.57440009\n",
      "Iteration 488, loss = 0.57421653\n",
      "Iteration 489, loss = 0.57404757\n",
      "Iteration 490, loss = 0.57388218\n",
      "Iteration 491, loss = 0.57371295\n",
      "Iteration 492, loss = 0.57354234\n",
      "Iteration 493, loss = 0.57338768\n",
      "Iteration 494, loss = 0.57321089\n",
      "Iteration 495, loss = 0.57306715\n",
      "Iteration 496, loss = 0.57290521\n",
      "Iteration 497, loss = 0.57274174\n",
      "Iteration 498, loss = 0.57258098\n",
      "Iteration 499, loss = 0.57241241\n",
      "Iteration 500, loss = 0.57223675\n",
      "Iteration 501, loss = 0.57205682\n",
      "Iteration 502, loss = 0.57190994\n",
      "Iteration 503, loss = 0.57175781\n",
      "Iteration 504, loss = 0.57158732\n",
      "Iteration 505, loss = 0.57141298\n",
      "Iteration 506, loss = 0.57124098\n",
      "Iteration 507, loss = 0.57107832\n",
      "Iteration 508, loss = 0.57090702\n",
      "Iteration 509, loss = 0.57073160\n",
      "Iteration 510, loss = 0.57057096\n",
      "Iteration 511, loss = 0.57041940\n",
      "Iteration 512, loss = 0.57023244\n",
      "Iteration 513, loss = 0.57006964\n",
      "Iteration 514, loss = 0.56990692\n",
      "Iteration 515, loss = 0.56972674\n",
      "Iteration 516, loss = 0.56956064\n",
      "Iteration 517, loss = 0.56937289\n",
      "Iteration 518, loss = 0.56921624\n",
      "Iteration 519, loss = 0.56905684\n",
      "Iteration 520, loss = 0.56889700\n",
      "Iteration 521, loss = 0.56871945\n",
      "Iteration 522, loss = 0.56854447\n",
      "Iteration 523, loss = 0.56839397\n",
      "Iteration 524, loss = 0.56820198\n",
      "Iteration 525, loss = 0.56803377\n",
      "Iteration 526, loss = 0.56786371\n",
      "Iteration 527, loss = 0.56768669\n",
      "Iteration 528, loss = 0.56750920\n",
      "Iteration 529, loss = 0.56734070\n",
      "Iteration 530, loss = 0.56718733\n",
      "Iteration 531, loss = 0.56700868\n",
      "Iteration 532, loss = 0.56684178\n",
      "Iteration 533, loss = 0.56665893\n",
      "Iteration 534, loss = 0.56648834\n",
      "Iteration 535, loss = 0.56633247\n",
      "Iteration 536, loss = 0.56616835\n",
      "Iteration 537, loss = 0.56598676\n",
      "Iteration 538, loss = 0.56579987\n",
      "Iteration 539, loss = 0.56562951\n",
      "Iteration 540, loss = 0.56545388\n",
      "Iteration 541, loss = 0.56527681\n",
      "Iteration 542, loss = 0.56511145\n",
      "Iteration 543, loss = 0.56494725\n",
      "Iteration 544, loss = 0.56477223\n",
      "Iteration 545, loss = 0.56458749\n",
      "Iteration 546, loss = 0.56441300\n",
      "Iteration 547, loss = 0.56424189\n",
      "Iteration 548, loss = 0.56406588\n",
      "Iteration 549, loss = 0.56388760\n",
      "Iteration 550, loss = 0.56372861\n",
      "Iteration 551, loss = 0.56355895\n",
      "Iteration 552, loss = 0.56337208\n",
      "Iteration 553, loss = 0.56320227\n",
      "Iteration 554, loss = 0.56301401\n",
      "Iteration 555, loss = 0.56284138\n",
      "Iteration 556, loss = 0.56265991\n",
      "Iteration 557, loss = 0.56250446\n",
      "Iteration 558, loss = 0.56230174\n",
      "Iteration 559, loss = 0.56212296\n",
      "Iteration 560, loss = 0.56197779\n",
      "Iteration 561, loss = 0.56177315\n",
      "Iteration 562, loss = 0.56161092\n",
      "Iteration 563, loss = 0.56143415\n",
      "Iteration 564, loss = 0.56124072\n",
      "Iteration 565, loss = 0.56110021\n",
      "Iteration 566, loss = 0.56090254\n",
      "Iteration 567, loss = 0.56072473\n",
      "Iteration 568, loss = 0.56056717\n",
      "Iteration 569, loss = 0.56039097\n",
      "Iteration 570, loss = 0.56019798\n",
      "Iteration 571, loss = 0.55999172\n",
      "Iteration 572, loss = 0.55980997\n",
      "Iteration 573, loss = 0.55966948\n",
      "Iteration 574, loss = 0.55945079\n",
      "Iteration 575, loss = 0.55929608\n",
      "Iteration 576, loss = 0.55914487\n",
      "Iteration 577, loss = 0.55897422\n",
      "Iteration 578, loss = 0.55878604\n",
      "Iteration 579, loss = 0.55858207\n",
      "Iteration 580, loss = 0.55836386\n",
      "Iteration 581, loss = 0.55821847\n",
      "Iteration 582, loss = 0.55805152\n",
      "Iteration 583, loss = 0.55781031\n",
      "Iteration 584, loss = 0.55764203\n",
      "Iteration 585, loss = 0.55747865\n",
      "Iteration 586, loss = 0.55729683\n",
      "Iteration 587, loss = 0.55709840\n",
      "Iteration 588, loss = 0.55692205\n",
      "Iteration 589, loss = 0.55674202\n",
      "Iteration 590, loss = 0.55655287\n",
      "Iteration 591, loss = 0.55637269\n",
      "Iteration 592, loss = 0.55615698\n",
      "Iteration 593, loss = 0.55595103\n",
      "Iteration 594, loss = 0.55578004\n",
      "Iteration 595, loss = 0.55559716\n",
      "Iteration 596, loss = 0.55541353\n",
      "Iteration 597, loss = 0.55522618\n",
      "Iteration 598, loss = 0.55504813\n",
      "Iteration 599, loss = 0.55486265\n",
      "Iteration 600, loss = 0.55466043\n",
      "Iteration 601, loss = 0.55445085\n",
      "Iteration 602, loss = 0.55424669\n",
      "Iteration 603, loss = 0.55406788\n",
      "Iteration 604, loss = 0.55389142\n",
      "Iteration 605, loss = 0.55370469\n",
      "Iteration 606, loss = 0.55352628\n",
      "Iteration 607, loss = 0.55333058\n",
      "Iteration 608, loss = 0.55312449\n",
      "Iteration 609, loss = 0.55292463\n",
      "Iteration 610, loss = 0.55271659\n",
      "Iteration 611, loss = 0.55255507\n",
      "Iteration 612, loss = 0.55236570\n",
      "Iteration 613, loss = 0.55215580\n",
      "Iteration 614, loss = 0.55195815\n",
      "Iteration 615, loss = 0.55170183\n",
      "Iteration 616, loss = 0.55144855\n",
      "Iteration 617, loss = 0.55116338\n",
      "Iteration 618, loss = 0.55086159\n",
      "Iteration 619, loss = 0.55056520\n",
      "Iteration 620, loss = 0.55024987\n",
      "Iteration 621, loss = 0.54992490\n",
      "Iteration 622, loss = 0.54958171\n",
      "Iteration 623, loss = 0.54922720\n",
      "Iteration 624, loss = 0.54886012\n",
      "Iteration 625, loss = 0.54854255\n",
      "Iteration 626, loss = 0.54815873\n",
      "Iteration 627, loss = 0.54778744\n",
      "Iteration 628, loss = 0.54747365\n",
      "Iteration 629, loss = 0.54724097\n",
      "Iteration 630, loss = 0.54697288\n",
      "Iteration 631, loss = 0.54667323\n",
      "Iteration 632, loss = 0.54641619\n",
      "Iteration 633, loss = 0.54615266\n",
      "Iteration 634, loss = 0.54579569\n",
      "Iteration 635, loss = 0.54545585\n",
      "Iteration 636, loss = 0.54515220\n",
      "Iteration 637, loss = 0.54482117\n",
      "Iteration 638, loss = 0.54446550\n",
      "Iteration 639, loss = 0.54409112\n",
      "Iteration 640, loss = 0.54379286\n",
      "Iteration 641, loss = 0.54350513\n",
      "Iteration 642, loss = 0.54319144\n",
      "Iteration 643, loss = 0.54285443\n",
      "Iteration 644, loss = 0.54255128\n",
      "Iteration 645, loss = 0.54221119\n",
      "Iteration 646, loss = 0.54186375\n",
      "Iteration 647, loss = 0.54151494\n",
      "Iteration 648, loss = 0.54120567\n",
      "Iteration 649, loss = 0.54088421\n",
      "Iteration 650, loss = 0.54059512\n",
      "Iteration 651, loss = 0.54026641\n",
      "Iteration 652, loss = 0.53989888\n",
      "Iteration 653, loss = 0.53954665\n",
      "Iteration 654, loss = 0.53920664\n",
      "Iteration 655, loss = 0.53886072\n",
      "Iteration 656, loss = 0.53855454\n",
      "Iteration 657, loss = 0.53822999\n",
      "Iteration 658, loss = 0.53788149\n",
      "Iteration 659, loss = 0.53751137\n",
      "Iteration 660, loss = 0.53715132\n",
      "Iteration 661, loss = 0.53680856\n",
      "Iteration 662, loss = 0.53646272\n",
      "Iteration 663, loss = 0.53611680\n",
      "Iteration 664, loss = 0.53576127\n",
      "Iteration 665, loss = 0.53544266\n",
      "Iteration 666, loss = 0.53509507\n",
      "Iteration 667, loss = 0.53475226\n",
      "Iteration 668, loss = 0.53439461\n",
      "Iteration 669, loss = 0.53399665\n",
      "Iteration 670, loss = 0.53367591\n",
      "Iteration 671, loss = 0.53335220\n",
      "Iteration 672, loss = 0.53300482\n",
      "Iteration 673, loss = 0.53263609\n",
      "Iteration 674, loss = 0.53224809\n",
      "Iteration 675, loss = 0.53186773\n",
      "Iteration 676, loss = 0.53154220\n",
      "Iteration 677, loss = 0.53120261\n",
      "Iteration 678, loss = 0.53084976\n",
      "Iteration 679, loss = 0.53048102\n",
      "Iteration 680, loss = 0.53008274\n",
      "Iteration 681, loss = 0.52969689\n",
      "Iteration 682, loss = 0.52934574\n",
      "Iteration 683, loss = 0.52898518\n",
      "Iteration 684, loss = 0.52861892\n",
      "Iteration 685, loss = 0.52824506\n",
      "Iteration 686, loss = 0.52789553\n",
      "Iteration 687, loss = 0.52753020\n",
      "Iteration 688, loss = 0.52713983\n",
      "Iteration 689, loss = 0.52675309\n",
      "Iteration 690, loss = 0.52635732\n",
      "Iteration 691, loss = 0.52602259\n",
      "Iteration 692, loss = 0.52565695\n",
      "Iteration 693, loss = 0.52524723\n",
      "Iteration 694, loss = 0.52485597\n",
      "Iteration 695, loss = 0.52448997\n",
      "Iteration 696, loss = 0.52409158\n",
      "Iteration 697, loss = 0.52371583\n",
      "Iteration 698, loss = 0.52334393\n",
      "Iteration 699, loss = 0.52298504\n",
      "Iteration 700, loss = 0.52256397\n",
      "Iteration 701, loss = 0.52216284\n",
      "Iteration 702, loss = 0.52178149\n",
      "Iteration 703, loss = 0.52141523\n",
      "Iteration 704, loss = 0.52102362\n",
      "Iteration 705, loss = 0.52066278\n",
      "Iteration 706, loss = 0.52026597\n",
      "Iteration 707, loss = 0.51985012\n",
      "Iteration 708, loss = 0.51945268\n",
      "Iteration 709, loss = 0.51905873\n",
      "Iteration 710, loss = 0.51864227\n",
      "Iteration 711, loss = 0.51824415\n",
      "Iteration 712, loss = 0.51784789\n",
      "Iteration 713, loss = 0.51747794\n",
      "Iteration 714, loss = 0.51705786\n",
      "Iteration 715, loss = 0.51664185\n",
      "Iteration 716, loss = 0.51625388\n",
      "Iteration 717, loss = 0.51584930\n",
      "Iteration 718, loss = 0.51545396\n",
      "Iteration 719, loss = 0.51504684\n",
      "Iteration 720, loss = 0.51462595\n",
      "Iteration 721, loss = 0.51423938\n",
      "Iteration 722, loss = 0.51381885\n",
      "Iteration 723, loss = 0.51338646\n",
      "Iteration 724, loss = 0.51301849\n",
      "Iteration 725, loss = 0.51255918\n",
      "Iteration 726, loss = 0.51220260\n",
      "Iteration 727, loss = 0.51181823\n",
      "Iteration 728, loss = 0.51143147\n",
      "Iteration 729, loss = 0.51101481\n",
      "Iteration 730, loss = 0.51056634\n",
      "Iteration 731, loss = 0.51014121\n",
      "Iteration 732, loss = 0.50971068\n",
      "Iteration 733, loss = 0.50930561\n",
      "Iteration 734, loss = 0.50886558\n",
      "Iteration 735, loss = 0.50843976\n",
      "Iteration 736, loss = 0.50802283\n",
      "Iteration 737, loss = 0.50759145\n",
      "Iteration 738, loss = 0.50720229\n",
      "Iteration 739, loss = 0.50676064\n",
      "Iteration 740, loss = 0.50635097\n",
      "Iteration 741, loss = 0.50591539\n",
      "Iteration 742, loss = 0.50550488\n",
      "Iteration 743, loss = 0.50509539\n",
      "Iteration 744, loss = 0.50466290\n",
      "Iteration 745, loss = 0.50421077\n",
      "Iteration 746, loss = 0.50378163\n",
      "Iteration 747, loss = 0.50340843\n",
      "Iteration 748, loss = 0.50296413\n",
      "Iteration 749, loss = 0.50252431\n",
      "Iteration 750, loss = 0.50207122\n",
      "Iteration 751, loss = 0.50165594\n",
      "Iteration 752, loss = 0.50122367\n",
      "Iteration 753, loss = 0.50081529\n",
      "Iteration 754, loss = 0.50035398\n",
      "Iteration 755, loss = 0.49994522\n",
      "Iteration 756, loss = 0.49954213\n",
      "Iteration 757, loss = 0.49910844\n",
      "Iteration 758, loss = 0.49864724\n",
      "Iteration 759, loss = 0.49816798\n"
     ]
    },
    {
     "name": "stdout",
     "output_type": "stream",
     "text": [
      "Iteration 760, loss = 0.49776886\n",
      "Iteration 761, loss = 0.49733053\n",
      "Iteration 762, loss = 0.49684832\n",
      "Iteration 763, loss = 0.49645179\n",
      "Iteration 764, loss = 0.49603465\n",
      "Iteration 765, loss = 0.49559768\n",
      "Iteration 766, loss = 0.49514379\n",
      "Iteration 767, loss = 0.49469001\n",
      "Iteration 768, loss = 0.49425770\n",
      "Iteration 769, loss = 0.49381088\n",
      "Iteration 770, loss = 0.49342030\n",
      "Iteration 771, loss = 0.49295690\n",
      "Iteration 772, loss = 0.49244523\n",
      "Iteration 773, loss = 0.49204200\n",
      "Iteration 774, loss = 0.49162948\n",
      "Iteration 775, loss = 0.49118631\n",
      "Iteration 776, loss = 0.49071560\n",
      "Iteration 777, loss = 0.49024005\n",
      "Iteration 778, loss = 0.48980521\n",
      "Iteration 779, loss = 0.48936171\n",
      "Iteration 780, loss = 0.48889889\n",
      "Iteration 781, loss = 0.48841670\n",
      "Iteration 782, loss = 0.48800423\n",
      "Iteration 783, loss = 0.48756719\n",
      "Iteration 784, loss = 0.48712513\n",
      "Iteration 785, loss = 0.48667758\n",
      "Iteration 786, loss = 0.48624017\n",
      "Iteration 787, loss = 0.48578475\n",
      "Iteration 788, loss = 0.48534733\n",
      "Iteration 789, loss = 0.48488683\n",
      "Iteration 790, loss = 0.48439846\n",
      "Iteration 791, loss = 0.48391167\n",
      "Iteration 792, loss = 0.48344820\n",
      "Iteration 793, loss = 0.48303443\n",
      "Iteration 794, loss = 0.48258260\n",
      "Iteration 795, loss = 0.48213622\n",
      "Iteration 796, loss = 0.48167711\n",
      "Iteration 797, loss = 0.48122320\n",
      "Iteration 798, loss = 0.48073807\n",
      "Iteration 799, loss = 0.48026903\n",
      "Iteration 800, loss = 0.47980618\n",
      "Iteration 801, loss = 0.47935421\n",
      "Iteration 802, loss = 0.47886868\n",
      "Iteration 803, loss = 0.47842078\n",
      "Iteration 804, loss = 0.47797952\n",
      "Iteration 805, loss = 0.47752508\n",
      "Iteration 806, loss = 0.47706480\n",
      "Iteration 807, loss = 0.47660850\n",
      "Iteration 808, loss = 0.47613898\n",
      "Iteration 809, loss = 0.47566632\n",
      "Iteration 810, loss = 0.47520336\n",
      "Iteration 811, loss = 0.47472076\n",
      "Iteration 812, loss = 0.47425986\n",
      "Iteration 813, loss = 0.47379021\n",
      "Iteration 814, loss = 0.47332980\n",
      "Iteration 815, loss = 0.47287158\n",
      "Iteration 816, loss = 0.47239683\n",
      "Iteration 817, loss = 0.47192517\n",
      "Iteration 818, loss = 0.47146655\n",
      "Iteration 819, loss = 0.47099380\n",
      "Iteration 820, loss = 0.47053205\n",
      "Iteration 821, loss = 0.47008419\n",
      "Iteration 822, loss = 0.46961087\n",
      "Iteration 823, loss = 0.46913586\n",
      "Iteration 824, loss = 0.46866258\n",
      "Iteration 825, loss = 0.46819724\n",
      "Iteration 826, loss = 0.46772891\n",
      "Iteration 827, loss = 0.46728057\n",
      "Iteration 828, loss = 0.46679594\n",
      "Iteration 829, loss = 0.46631289\n",
      "Iteration 830, loss = 0.46584928\n",
      "Iteration 831, loss = 0.46537653\n",
      "Iteration 832, loss = 0.46491960\n",
      "Iteration 833, loss = 0.46444449\n",
      "Iteration 834, loss = 0.46398364\n",
      "Iteration 835, loss = 0.46349502\n",
      "Iteration 836, loss = 0.46303472\n",
      "Iteration 837, loss = 0.46257528\n",
      "Iteration 838, loss = 0.46209360\n",
      "Iteration 839, loss = 0.46161066\n",
      "Iteration 840, loss = 0.46120507\n",
      "Iteration 841, loss = 0.46070571\n",
      "Iteration 842, loss = 0.46022620\n",
      "Iteration 843, loss = 0.45977555\n",
      "Iteration 844, loss = 0.45932209\n",
      "Iteration 845, loss = 0.45883963\n",
      "Iteration 846, loss = 0.45833115\n",
      "Iteration 847, loss = 0.45783551\n",
      "Iteration 848, loss = 0.45745254\n",
      "Iteration 849, loss = 0.45698508\n",
      "Iteration 850, loss = 0.45645246\n",
      "Iteration 851, loss = 0.45596272\n",
      "Iteration 852, loss = 0.45551904\n",
      "Iteration 853, loss = 0.45504547\n",
      "Iteration 854, loss = 0.45459380\n",
      "Iteration 855, loss = 0.45411165\n",
      "Iteration 856, loss = 0.45359505\n",
      "Iteration 857, loss = 0.45309015\n",
      "Iteration 858, loss = 0.45269172\n",
      "Iteration 859, loss = 0.45221031\n",
      "Iteration 860, loss = 0.45166023\n",
      "Iteration 861, loss = 0.45121460\n",
      "Iteration 862, loss = 0.45078818\n",
      "Iteration 863, loss = 0.45033684\n",
      "Iteration 864, loss = 0.44985632\n",
      "Iteration 865, loss = 0.44937431\n",
      "Iteration 866, loss = 0.44887537\n",
      "Iteration 867, loss = 0.44834470\n",
      "Iteration 868, loss = 0.44783342\n",
      "Iteration 869, loss = 0.44741775\n",
      "Iteration 870, loss = 0.44691910\n",
      "Iteration 871, loss = 0.44641457\n",
      "Iteration 872, loss = 0.44596155\n",
      "Iteration 873, loss = 0.44547956\n",
      "Iteration 874, loss = 0.44499019\n",
      "Iteration 875, loss = 0.44451033\n",
      "Iteration 876, loss = 0.44402938\n",
      "Iteration 877, loss = 0.44353603\n",
      "Iteration 878, loss = 0.44307121\n",
      "Iteration 879, loss = 0.44261635\n",
      "Iteration 880, loss = 0.44212288\n",
      "Iteration 881, loss = 0.44163708\n",
      "Iteration 882, loss = 0.44117970\n",
      "Iteration 883, loss = 0.44070620\n",
      "Iteration 884, loss = 0.44022875\n",
      "Iteration 885, loss = 0.43974062\n",
      "Iteration 886, loss = 0.43924676\n",
      "Iteration 887, loss = 0.43875339\n",
      "Iteration 888, loss = 0.43827455\n",
      "Iteration 889, loss = 0.43779777\n",
      "Iteration 890, loss = 0.43731936\n",
      "Iteration 891, loss = 0.43686591\n",
      "Iteration 892, loss = 0.43639566\n",
      "Iteration 893, loss = 0.43590266\n",
      "Iteration 894, loss = 0.43539181\n",
      "Iteration 895, loss = 0.43491735\n",
      "Iteration 896, loss = 0.43444626\n",
      "Iteration 897, loss = 0.43396685\n",
      "Iteration 898, loss = 0.43348433\n",
      "Iteration 899, loss = 0.43298747\n",
      "Iteration 900, loss = 0.43251708\n",
      "score 1.0\n",
      "Predict [0 1 1 0]\n",
      "Target [0 1 1 0]\n",
      "Loop 900\n"
     ]
    },
    {
     "name": "stderr",
     "output_type": "stream",
     "text": [
      "D:\\Ancondas\\lib\\site-packages\\sklearn\\neural_network\\_multilayer_perceptron.py:692: ConvergenceWarning: Stochastic Optimizer: Maximum iterations (900) reached and the optimization hasn't converged yet.\n",
      "  warnings.warn(\n"
     ]
    }
   ],
   "source": [
    "#เพื่ม max_teir 600 900\n",
    "from sklearn.neural_network import MLPClassifier\n",
    "model =MLPClassifier(hidden_layer_sizes=(4),random_state=1,verbose=True,\n",
    "                    max_iter=900) #Create NN \n",
    "\n",
    "model.fit(X_train,y_train)\n",
    "print('score',model.score(X_train,y_train))\n",
    "print('Predict',model.predict(X_train))\n",
    "print('Target',np.array(y_train))\n",
    "print('Loop',model.max_iter)"
   ]
  },
  {
   "cell_type": "code",
   "execution_count": 9,
   "id": "4d9b97a3",
   "metadata": {},
   "outputs": [
    {
     "name": "stdout",
     "output_type": "stream",
     "text": [
      "[array([[-2.59294024e-10,  1.15076115e+00, -3.07408277e-01,\n",
      "        -8.68274657e-01],\n",
      "       [-1.09158683e-01, -1.15088159e+00, -6.93327792e-02,\n",
      "         5.61065103e-01]]), array([[-0.07869046],\n",
      "       [ 1.78394645],\n",
      "       [-0.3351625 ],\n",
      "       [ 1.10638124]])]\n"
     ]
    }
   ],
   "source": [
    "#check information\n",
    "[coef.shape for coef in model.coefs_]\n",
    "[(2,4),(4,1)]\n",
    "\n",
    "print(model.coefs_)"
   ]
  },
  {
   "cell_type": "code",
   "execution_count": 10,
   "id": "79e08896",
   "metadata": {},
   "outputs": [
    {
     "name": "stdout",
     "output_type": "stream",
     "text": [
      "[array([-2.06465052e-01, -3.00904340e-04, -1.61610971e-01,  3.07243912e-01]), array([-0.81267055])]\n"
     ]
    }
   ],
   "source": [
    "print(model.intercepts_)"
   ]
  },
  {
   "cell_type": "code",
   "execution_count": 11,
   "id": "891b1626",
   "metadata": {},
   "outputs": [
    {
     "data": {
      "text/html": [
       "<div>\n",
       "<style scoped>\n",
       "    .dataframe tbody tr th:only-of-type {\n",
       "        vertical-align: middle;\n",
       "    }\n",
       "\n",
       "    .dataframe tbody tr th {\n",
       "        vertical-align: top;\n",
       "    }\n",
       "\n",
       "    .dataframe thead th {\n",
       "        text-align: right;\n",
       "    }\n",
       "</style>\n",
       "<table border=\"1\" class=\"dataframe\">\n",
       "  <thead>\n",
       "    <tr style=\"text-align: right;\">\n",
       "      <th></th>\n",
       "      <th>m</th>\n",
       "      <th>d</th>\n",
       "      <th>target</th>\n",
       "    </tr>\n",
       "  </thead>\n",
       "  <tbody>\n",
       "    <tr>\n",
       "      <th>3</th>\n",
       "      <td>6.6</td>\n",
       "      <td>3.2</td>\n",
       "      <td>0</td>\n",
       "    </tr>\n",
       "    <tr>\n",
       "      <th>7</th>\n",
       "      <td>7.0</td>\n",
       "      <td>4.8</td>\n",
       "      <td>1</td>\n",
       "    </tr>\n",
       "    <tr>\n",
       "      <th>6</th>\n",
       "      <td>8.2</td>\n",
       "      <td>4.4</td>\n",
       "      <td>1</td>\n",
       "    </tr>\n",
       "    <tr>\n",
       "      <th>2</th>\n",
       "      <td>6.5</td>\n",
       "      <td>5.5</td>\n",
       "      <td>0</td>\n",
       "    </tr>\n",
       "    <tr>\n",
       "      <th>10</th>\n",
       "      <td>8.9</td>\n",
       "      <td>5.2</td>\n",
       "      <td>0</td>\n",
       "    </tr>\n",
       "    <tr>\n",
       "      <th>4</th>\n",
       "      <td>6.9</td>\n",
       "      <td>5.9</td>\n",
       "      <td>0</td>\n",
       "    </tr>\n",
       "  </tbody>\n",
       "</table>\n",
       "</div>"
      ],
      "text/plain": [
       "      m    d  target\n",
       "3   6.6  3.2       0\n",
       "7   7.0  4.8       1\n",
       "6   8.2  4.4       1\n",
       "2   6.5  5.5       0\n",
       "10  8.9  5.2       0\n",
       "4   6.9  5.9       0"
      ]
     },
     "execution_count": 11,
     "metadata": {},
     "output_type": "execute_result"
    }
   ],
   "source": [
    "#Workshop5 MLP จำแนกผลไม้\n",
    "\n",
    "import numpy as np \n",
    "import pandas as pd\n",
    "import seaborn as sns\n",
    "import matplotlib.pyplot as plt\n",
    "\n",
    "df =pd.read_csv('D:/DeepLearning_Book/datasets/fruit2class.csv') #อ่านข้อมุล\n",
    "\n",
    "df.sample(7) \n",
    "#df.head(8)\n",
    "df.sample(6,random_state=1)"
   ]
  },
  {
   "cell_type": "code",
   "execution_count": 12,
   "id": "a5dfc27c",
   "metadata": {},
   "outputs": [
    {
     "data": {
      "text/plain": [
       "array([0, 1], dtype=int64)"
      ]
     },
     "execution_count": 12,
     "metadata": {},
     "output_type": "execute_result"
    }
   ],
   "source": [
    "df.target.unique() #มีคลาส 0 1"
   ]
  },
  {
   "cell_type": "code",
   "execution_count": 13,
   "id": "e8ab9d6b",
   "metadata": {},
   "outputs": [
    {
     "data": {
      "image/png": "[encoded data removed]",
      "text/plain": [
       "<Figure size 432x288 with 1 Axes>"
      ]
     },
     "metadata": {
      "needs_background": "light"
     },
     "output_type": "display_data"
    }
   ],
   "source": [
    "sns.scatterplot(x='m',y='d',data=df,hue= 'target',style='target',s=140)\n",
    "plt.show()"
   ]
  },
  {
   "cell_type": "code",
   "execution_count": 14,
   "id": "6b3d3726",
   "metadata": {},
   "outputs": [],
   "source": [
    "X= df.drop('target',axis=1)\n",
    "y = df.target"
   ]
  },
  {
   "cell_type": "code",
   "execution_count": 15,
   "id": "47302ea0",
   "metadata": {},
   "outputs": [],
   "source": [
    "from sklearn.preprocessing import StandardScaler\n",
    "sc = StandardScaler()\n",
    "\n",
    "X_train = sc.fit_transform(X)\n",
    "y_train = y "
   ]
  },
  {
   "cell_type": "code",
   "execution_count": 16,
   "id": "535cc0d3",
   "metadata": {},
   "outputs": [
    {
     "data": {
      "text/html": [
       "<div>\n",
       "<style scoped>\n",
       "    .dataframe tbody tr th:only-of-type {\n",
       "        vertical-align: middle;\n",
       "    }\n",
       "\n",
       "    .dataframe tbody tr th {\n",
       "        vertical-align: top;\n",
       "    }\n",
       "\n",
       "    .dataframe thead th {\n",
       "        text-align: right;\n",
       "    }\n",
       "</style>\n",
       "<table border=\"1\" class=\"dataframe\">\n",
       "  <thead>\n",
       "    <tr style=\"text-align: right;\">\n",
       "      <th></th>\n",
       "      <th>m</th>\n",
       "      <th>d</th>\n",
       "      <th>target</th>\n",
       "    </tr>\n",
       "  </thead>\n",
       "  <tbody>\n",
       "    <tr>\n",
       "      <th>3</th>\n",
       "      <td>6.6</td>\n",
       "      <td>3.2</td>\n",
       "      <td>0</td>\n",
       "    </tr>\n",
       "    <tr>\n",
       "      <th>7</th>\n",
       "      <td>7.0</td>\n",
       "      <td>4.8</td>\n",
       "      <td>1</td>\n",
       "    </tr>\n",
       "    <tr>\n",
       "      <th>6</th>\n",
       "      <td>8.2</td>\n",
       "      <td>4.4</td>\n",
       "      <td>1</td>\n",
       "    </tr>\n",
       "    <tr>\n",
       "      <th>2</th>\n",
       "      <td>6.5</td>\n",
       "      <td>5.5</td>\n",
       "      <td>0</td>\n",
       "    </tr>\n",
       "    <tr>\n",
       "      <th>10</th>\n",
       "      <td>8.9</td>\n",
       "      <td>5.2</td>\n",
       "      <td>0</td>\n",
       "    </tr>\n",
       "    <tr>\n",
       "      <th>4</th>\n",
       "      <td>6.9</td>\n",
       "      <td>5.9</td>\n",
       "      <td>0</td>\n",
       "    </tr>\n",
       "  </tbody>\n",
       "</table>\n",
       "</div>"
      ],
      "text/plain": [
       "      m    d  target\n",
       "3   6.6  3.2       0\n",
       "7   7.0  4.8       1\n",
       "6   8.2  4.4       1\n",
       "2   6.5  5.5       0\n",
       "10  8.9  5.2       0\n",
       "4   6.9  5.9       0"
      ]
     },
     "execution_count": 16,
     "metadata": {},
     "output_type": "execute_result"
    }
   ],
   "source": [
    "df.sample(6,random_state=1)\n"
   ]
  },
  {
   "cell_type": "code",
   "execution_count": 17,
   "id": "0c982ba5",
   "metadata": {},
   "outputs": [
    {
     "data": {
      "text/html": [
       "<div>\n",
       "<style scoped>\n",
       "    .dataframe tbody tr th:only-of-type {\n",
       "        vertical-align: middle;\n",
       "    }\n",
       "\n",
       "    .dataframe tbody tr th {\n",
       "        vertical-align: top;\n",
       "    }\n",
       "\n",
       "    .dataframe thead th {\n",
       "        text-align: right;\n",
       "    }\n",
       "</style>\n",
       "<table border=\"1\" class=\"dataframe\">\n",
       "  <thead>\n",
       "    <tr style=\"text-align: right;\">\n",
       "      <th></th>\n",
       "      <th>d</th>\n",
       "      <th>m</th>\n",
       "      <th>target</th>\n",
       "    </tr>\n",
       "  </thead>\n",
       "  <tbody>\n",
       "    <tr>\n",
       "      <th>3</th>\n",
       "      <td>-0.736514</td>\n",
       "      <td>-1.398477</td>\n",
       "      <td>0</td>\n",
       "    </tr>\n",
       "    <tr>\n",
       "      <th>7</th>\n",
       "      <td>-0.352246</td>\n",
       "      <td>0.340562</td>\n",
       "      <td>1</td>\n",
       "    </tr>\n",
       "    <tr>\n",
       "      <th>6</th>\n",
       "      <td>0.800559</td>\n",
       "      <td>-0.094198</td>\n",
       "      <td>1</td>\n",
       "    </tr>\n",
       "    <tr>\n",
       "      <th>2</th>\n",
       "      <td>-0.832581</td>\n",
       "      <td>1.101391</td>\n",
       "      <td>0</td>\n",
       "    </tr>\n",
       "    <tr>\n",
       "      <th>10</th>\n",
       "      <td>1.473028</td>\n",
       "      <td>0.775322</td>\n",
       "      <td>0</td>\n",
       "    </tr>\n",
       "    <tr>\n",
       "      <th>4</th>\n",
       "      <td>-0.448313</td>\n",
       "      <td>1.536151</td>\n",
       "      <td>0</td>\n",
       "    </tr>\n",
       "  </tbody>\n",
       "</table>\n",
       "</div>"
      ],
      "text/plain": [
       "           d         m  target\n",
       "3  -0.736514 -1.398477       0\n",
       "7  -0.352246  0.340562       1\n",
       "6   0.800559 -0.094198       1\n",
       "2  -0.832581  1.101391       0\n",
       "10  1.473028  0.775322       0\n",
       "4  -0.448313  1.536151       0"
      ]
     },
     "execution_count": 17,
     "metadata": {},
     "output_type": "execute_result"
    }
   ],
   "source": [
    "df_sc =pd.DataFrame(X_train,columns=['d','m'])\n",
    "df_sc['target']=y_train\n",
    "df_sc.sample(6,random_state=1)\n"
   ]
  },
  {
   "cell_type": "code",
   "execution_count": 18,
   "id": "9dbbbfa7",
   "metadata": {},
   "outputs": [
    {
     "name": "stdout",
     "output_type": "stream",
     "text": [
      "Score: 0.7333\n",
      "actual y: [0 0 0 0 0 0 1 1 1 1 0 0 0 0 0]\n",
      "predict [0 0 0 0 0 0 0 0 0 0 0 0 0 0 0]\n"
     ]
    },
    {
     "name": "stderr",
     "output_type": "stream",
     "text": [
      "D:\\Ancondas\\lib\\site-packages\\sklearn\\neural_network\\_multilayer_perceptron.py:692: ConvergenceWarning: Stochastic Optimizer: Maximum iterations (200) reached and the optimization hasn't converged yet.\n",
      "  warnings.warn(\n"
     ]
    }
   ],
   "source": [
    "#Create Model\n",
    "from sklearn.neural_network import MLPClassifier\n",
    "\n",
    "hidden = 100\n",
    "model =MLPClassifier(random_state=1) \n",
    "model.fit(X_train,y_train)\n",
    "\n",
    "print('Score: {:.4f}'.format(model.score(X_train,y_train)))\n",
    "print('actual y:',np.array(y))\n",
    "print('predict',model.predict(X_train))\n"
   ]
  },
  {
   "cell_type": "code",
   "execution_count": 19,
   "id": "44f4eb4c",
   "metadata": {},
   "outputs": [
    {
     "name": "stdout",
     "output_type": "stream",
     "text": [
      "Score: 0.7333\n",
      "Confuse_matrix [[11  0]\n",
      " [ 4  0]]\n"
     ]
    }
   ],
   "source": [
    "#Back progation model\n",
    "from sklearn.metrics import classification_report,confusion_matrix\n",
    "\n",
    "y_predict = model.predict(X_train)\n",
    "print('Score: {:.4f}'.format(model.score(X_train,y_train)))\n",
    "print(\"Confuse_matrix\",confusion_matrix(y_train,y_predict))"
   ]
  },
  {
   "cell_type": "code",
   "execution_count": 20,
   "id": "ddeeb026",
   "metadata": {},
   "outputs": [
    {
     "data": {
      "image/png": "[encoded data removed]",
      "text/plain": [
       "<Figure size 324x252 with 1 Axes>"
      ]
     },
     "metadata": {},
     "output_type": "display_data"
    }
   ],
   "source": [
    "#Plot grahp \n",
    "from mlxtend.plotting import plot_decision_regions\n",
    "plt.figure(figsize=(4.5,3.5))\n",
    "plot_decision_regions(X_train,np.array(y_train),clf=model,legend=2)\n",
    "\n",
    "plt.title('MLP: 2 class (hidden layer: {})'.format(hidden))\n",
    "plt.xticks([])\n",
    "plt.yticks([])\n",
    "plt.xlabel('m(gram)')\n",
    "plt.ylabel('d(diameter)')\n",
    "plt.show()"
   ]
  },
  {
   "cell_type": "code",
   "execution_count": 21,
   "id": "a323e9e5",
   "metadata": {},
   "outputs": [
    {
     "data": {
      "text/plain": [
       "[(2, 100), (100, 1)]"
      ]
     },
     "execution_count": 21,
     "metadata": {},
     "output_type": "execute_result"
    }
   ],
   "source": [
    "#check strucger\n",
    "[coef.shape for coef in model.coefs_]"
   ]
  },
  {
   "cell_type": "code",
   "execution_count": 22,
   "id": "878ba4c9",
   "metadata": {},
   "outputs": [
    {
     "data": {
      "image/png": "[encoded data removed]",
      "text/plain": [
       "<Figure size 360x216 with 1 Axes>"
      ]
     },
     "metadata": {
      "needs_background": "light"
     },
     "output_type": "display_data"
    }
   ],
   "source": [
    "#check loss curve  \n",
    "# when you train model this will show you about how much value program was trainnig and lossing in the same time\n",
    "# it's train for 200 lap\n",
    "plt.figure(figsize=(5,3))\n",
    "plt.title('Loss curve')\n",
    "plt.xlabel('Iteration')\n",
    "plt.plot(model.loss_curve_)\n",
    "plt.show()"
   ]
  },
  {
   "cell_type": "code",
   "execution_count": 23,
   "id": "a049120a",
   "metadata": {},
   "outputs": [
    {
     "name": "stdout",
     "output_type": "stream",
     "text": [
      "Score: 1.0000\n",
      "actual y: [0 0 0 0 0 0 1 1 1 1 0 0 0 0 0]\n",
      "predict: [0 0 0 0 0 0 1 1 1 1 0 0 0 0 0]\n"
     ]
    }
   ],
   "source": [
    "# add lap more than 200 lap \n",
    "iter = 2000 \n",
    "model = MLPClassifier(max_iter=iter,random_state=1)# setting lap\n",
    "\n",
    "model.fit(X_train,y_train)\n",
    "print('Score: {:.4f}'.format(model.score(X_train,y_train)))\n",
    "#Another style\n",
    "#print('score:',model.score(X_train,y_train).round(4))\n",
    "print('actual y:',np.array(y))\n",
    "print('predict:',model.predict(X_train))"
   ]
  },
  {
   "cell_type": "code",
   "execution_count": 24,
   "id": "cbf7ec06",
   "metadata": {},
   "outputs": [
    {
     "data": {
      "image/png": "[encoded data removed]",
      "text/plain": [
       "<Figure size 324x252 with 1 Axes>"
      ]
     },
     "metadata": {},
     "output_type": "display_data"
    }
   ],
   "source": [
    "#plot graph  \n",
    "#when you back progation everything will be finish and right\n",
    "from mlxtend.plotting import plot_decision_regions\n",
    "plt.figure(figsize=(4.5,3.5))\n",
    "plot_decision_regions(X_train,np.array(y_train),clf=model,legend=2)\n",
    "\n",
    "plt.title('MLP: 2 class (hidden layer: {},iter: {})'.format(hidden,iter))\n",
    "plt.xticks([])\n",
    "plt.yticks([])\n",
    "plt.xlabel('m(gram)')\n",
    "plt.ylabel('d(diameter)')\n",
    "plt.show()"
   ]
  },
  {
   "cell_type": "code",
   "execution_count": 25,
   "id": "7386eef5",
   "metadata": {},
   "outputs": [
    {
     "name": "stdout",
     "output_type": "stream",
     "text": [
      "Score: 0.8667\n",
      "score: 0.8667\n",
      "actual y: [0 0 0 0 0 0 1 1 1 1 0 0 0 0 0]\n",
      "predict: [0 0 0 0 0 0 0 1 0 1 0 0 0 0 0]\n"
     ]
    },
    {
     "name": "stderr",
     "output_type": "stream",
     "text": [
      "D:\\Ancondas\\lib\\site-packages\\sklearn\\neural_network\\_multilayer_perceptron.py:692: ConvergenceWarning: Stochastic Optimizer: Maximum iterations (200) reached and the optimization hasn't converged yet.\n",
      "  warnings.warn(\n"
     ]
    }
   ],
   "source": [
    "#Change Hidden layer\n",
    "\n",
    "hidden =150\n",
    "iter = 200\n",
    "model = MLPClassifier(hidden_layer_sizes=(hidden),max_iter=(iter),random_state=1)\n",
    "\n",
    "model.fit(X_train,y_train)\n",
    "print('Score: {:.4f}'.format(model.score(X_train,y_train)))\n",
    "print('score:',model.score(X_train,y_train).round(4))\n",
    "print('actual y:',np.array(y))\n",
    "print('predict:',model.predict(X_train)) #wrong about 2 piont"
   ]
  },
  {
   "cell_type": "code",
   "execution_count": 26,
   "id": "e3507cd1",
   "metadata": {},
   "outputs": [
    {
     "data": {
      "text/plain": [
       "[(2, 150), (150, 1)]"
      ]
     },
     "execution_count": 26,
     "metadata": {},
     "output_type": "execute_result"
    }
   ],
   "source": [
    "#check strucger\n",
    "[coef.shape for coef in model.coefs_]"
   ]
  },
  {
   "cell_type": "code",
   "execution_count": 27,
   "id": "ce4ce454",
   "metadata": {},
   "outputs": [
    {
     "name": "stdout",
     "output_type": "stream",
     "text": [
      "Score: 1.0000\n",
      "score: 1.0\n",
      "actual y: [0 0 0 0 0 0 1 1 1 1 0 0 0 0 0]\n",
      "predict: [0 0 0 0 0 0 1 1 1 1 0 0 0 0 0]\n"
     ]
    },
    {
     "name": "stderr",
     "output_type": "stream",
     "text": [
      "D:\\Ancondas\\lib\\site-packages\\sklearn\\neural_network\\_multilayer_perceptron.py:692: ConvergenceWarning: Stochastic Optimizer: Maximum iterations (2000) reached and the optimization hasn't converged yet.\n",
      "  warnings.warn(\n"
     ]
    }
   ],
   "source": [
    "#Cut back hidden layer \n",
    "hidden =4  \n",
    "iter = 2000 #add lap \n",
    "model = MLPClassifier(hidden_layer_sizes=(hidden),max_iter=(iter),random_state=1)\n",
    "\n",
    "model.fit(X_train,y_train)\n",
    "print('Score: {:.4f}'.format(model.score(X_train,y_train)))\n",
    "print('score:',model.score(X_train,y_train).round(4))\n",
    "print('actual y:',np.array(y))\n",
    "print('predict:',model.predict(X_train))\n",
    "\n"
   ]
  },
  {
   "cell_type": "code",
   "execution_count": 28,
   "id": "09009e63",
   "metadata": {},
   "outputs": [
    {
     "data": {
      "image/png": "[encoded data removed]",
      "text/plain": [
       "<Figure size 324x252 with 1 Axes>"
      ]
     },
     "metadata": {},
     "output_type": "display_data"
    }
   ],
   "source": [
    "#plot graph  \n",
    "#when you back progation everything will be finish and right\n",
    "from mlxtend.plotting import plot_decision_regions\n",
    "plt.figure(figsize=(4.5,3.5))\n",
    "plot_decision_regions(X_train,np.array(y_train),clf=model,legend=2)\n",
    "\n",
    "plt.title('MLP: 2 class (hidden layer: {},iter: {})'.format(hidden,iter))\n",
    "plt.xticks([])\n",
    "plt.yticks([])\n",
    "plt.xlabel('m(gram)')\n",
    "plt.ylabel('d(diameter)')\n",
    "plt.show()"
   ]
  },
  {
   "cell_type": "code",
   "execution_count": 29,
   "id": "3e13388b",
   "metadata": {},
   "outputs": [
    {
     "name": "stdout",
     "output_type": "stream",
     "text": [
      "Score: 1.0000\n",
      "score: 1.0\n",
      "actual y: [0 0 0 0 0 0 1 1 1 1 0 0 0 0 0]\n",
      "predict: [0 0 0 0 0 0 1 1 1 1 0 0 0 0 0]\n"
     ]
    },
    {
     "name": "stderr",
     "output_type": "stream",
     "text": [
      "D:\\Ancondas\\lib\\site-packages\\sklearn\\neural_network\\_multilayer_perceptron.py:692: ConvergenceWarning: Stochastic Optimizer: Maximum iterations (2000) reached and the optimization hasn't converged yet.\n",
      "  warnings.warn(\n"
     ]
    }
   ],
   "source": [
    "#cutback hidden layer will be 10 \n",
    "\n",
    "hidden =10  \n",
    "iter = 2000 #add lap \n",
    "model = MLPClassifier(hidden_layer_sizes=(hidden),max_iter=(iter),random_state=1)\n",
    "\n",
    "model.fit(X_train,y_train)\n",
    "print('Score: {:.4f}'.format(model.score(X_train,y_train)))\n",
    "print('score:',model.score(X_train,y_train).round(4))\n",
    "print('actual y:',np.array(y))\n",
    "print('predict:',model.predict(X_train))"
   ]
  },
  {
   "cell_type": "code",
   "execution_count": 30,
   "id": "aa2c406b",
   "metadata": {},
   "outputs": [
    {
     "data": {
      "image/png": "[encoded data removed]",
      "text/plain": [
       "<Figure size 324x252 with 1 Axes>"
      ]
     },
     "metadata": {},
     "output_type": "display_data"
    }
   ],
   "source": [
    "#plot graph  \n",
    "#when you back progation everything will be finish and right\n",
    "from mlxtend.plotting import plot_decision_regions\n",
    "plt.figure(figsize=(4.5,3.5))\n",
    "plot_decision_regions(X_train,np.array(y_train),clf=model,legend=2)\n",
    "\n",
    "plt.title('MLP: 2 class (hidden layer: {},iter: {})'.format(hidden,iter))\n",
    "plt.xticks([])\n",
    "plt.yticks([])\n",
    "plt.xlabel('m(gram)')\n",
    "plt.ylabel('d(diameter)')\n",
    "plt.show()"
   ]
  },
  {
   "cell_type": "code",
   "execution_count": 31,
   "id": "2ee2ef04",
   "metadata": {},
   "outputs": [
    {
     "data": {
      "text/html": [
       "<div>\n",
       "<style scoped>\n",
       "    .dataframe tbody tr th:only-of-type {\n",
       "        vertical-align: middle;\n",
       "    }\n",
       "\n",
       "    .dataframe tbody tr th {\n",
       "        vertical-align: top;\n",
       "    }\n",
       "\n",
       "    .dataframe thead th {\n",
       "        text-align: right;\n",
       "    }\n",
       "</style>\n",
       "<table border=\"1\" class=\"dataframe\">\n",
       "  <thead>\n",
       "    <tr style=\"text-align: right;\">\n",
       "      <th></th>\n",
       "      <th>m</th>\n",
       "      <th>d</th>\n",
       "      <th>target</th>\n",
       "    </tr>\n",
       "  </thead>\n",
       "  <tbody>\n",
       "    <tr>\n",
       "      <th>3</th>\n",
       "      <td>6.6</td>\n",
       "      <td>3.2</td>\n",
       "      <td>0</td>\n",
       "    </tr>\n",
       "    <tr>\n",
       "      <th>7</th>\n",
       "      <td>7.0</td>\n",
       "      <td>4.8</td>\n",
       "      <td>1</td>\n",
       "    </tr>\n",
       "    <tr>\n",
       "      <th>6</th>\n",
       "      <td>8.2</td>\n",
       "      <td>4.4</td>\n",
       "      <td>1</td>\n",
       "    </tr>\n",
       "    <tr>\n",
       "      <th>2</th>\n",
       "      <td>6.5</td>\n",
       "      <td>5.5</td>\n",
       "      <td>0</td>\n",
       "    </tr>\n",
       "    <tr>\n",
       "      <th>10</th>\n",
       "      <td>8.9</td>\n",
       "      <td>5.2</td>\n",
       "      <td>2</td>\n",
       "    </tr>\n",
       "    <tr>\n",
       "      <th>4</th>\n",
       "      <td>6.9</td>\n",
       "      <td>5.9</td>\n",
       "      <td>0</td>\n",
       "    </tr>\n",
       "  </tbody>\n",
       "</table>\n",
       "</div>"
      ],
      "text/plain": [
       "      m    d  target\n",
       "3   6.6  3.2       0\n",
       "7   7.0  4.8       1\n",
       "6   8.2  4.4       1\n",
       "2   6.5  5.5       0\n",
       "10  8.9  5.2       2\n",
       "4   6.9  5.9       0"
      ]
     },
     "execution_count": 31,
     "metadata": {},
     "output_type": "execute_result"
    }
   ],
   "source": [
    "#Workshop 6 MLPผลไม้ 3 class\n",
    "\n",
    "df=pd.read_csv('D:/DeepLearning_Book/datasets/fruit3class.csv')\n",
    "df.sample(6,random_state=1)"
   ]
  },
  {
   "cell_type": "code",
   "execution_count": 32,
   "id": "d0854922",
   "metadata": {},
   "outputs": [
    {
     "data": {
      "text/plain": [
       "array([0, 1, 2], dtype=int64)"
      ]
     },
     "execution_count": 32,
     "metadata": {},
     "output_type": "execute_result"
    }
   ],
   "source": [
    "df.target.unique()"
   ]
  },
  {
   "cell_type": "code",
   "execution_count": 33,
   "id": "6c863451",
   "metadata": {},
   "outputs": [
    {
     "data": {
      "image/png": "[encoded data removed]",
      "text/plain": [
       "<Figure size 432x288 with 1 Axes>"
      ]
     },
     "metadata": {
      "needs_background": "light"
     },
     "output_type": "display_data"
    }
   ],
   "source": [
    "sns.scatterplot(x='m',y='d',data=df,hue='target',style='target',s=140)\n",
    "plt.show()"
   ]
  },
  {
   "cell_type": "code",
   "execution_count": 34,
   "id": "81865fa6",
   "metadata": {},
   "outputs": [
    {
     "data": {
      "text/html": [
       "<div>\n",
       "<style scoped>\n",
       "    .dataframe tbody tr th:only-of-type {\n",
       "        vertical-align: middle;\n",
       "    }\n",
       "\n",
       "    .dataframe tbody tr th {\n",
       "        vertical-align: top;\n",
       "    }\n",
       "\n",
       "    .dataframe thead th {\n",
       "        text-align: right;\n",
       "    }\n",
       "</style>\n",
       "<table border=\"1\" class=\"dataframe\">\n",
       "  <thead>\n",
       "    <tr style=\"text-align: right;\">\n",
       "      <th></th>\n",
       "      <th>d</th>\n",
       "      <th>m</th>\n",
       "      <th>target</th>\n",
       "    </tr>\n",
       "  </thead>\n",
       "  <tbody>\n",
       "    <tr>\n",
       "      <th>3</th>\n",
       "      <td>-0.736514</td>\n",
       "      <td>-1.398477</td>\n",
       "      <td>0</td>\n",
       "    </tr>\n",
       "    <tr>\n",
       "      <th>7</th>\n",
       "      <td>-0.352246</td>\n",
       "      <td>0.340562</td>\n",
       "      <td>1</td>\n",
       "    </tr>\n",
       "    <tr>\n",
       "      <th>6</th>\n",
       "      <td>0.800559</td>\n",
       "      <td>-0.094198</td>\n",
       "      <td>1</td>\n",
       "    </tr>\n",
       "    <tr>\n",
       "      <th>2</th>\n",
       "      <td>-0.832581</td>\n",
       "      <td>1.101391</td>\n",
       "      <td>0</td>\n",
       "    </tr>\n",
       "    <tr>\n",
       "      <th>10</th>\n",
       "      <td>1.473028</td>\n",
       "      <td>0.775322</td>\n",
       "      <td>2</td>\n",
       "    </tr>\n",
       "    <tr>\n",
       "      <th>4</th>\n",
       "      <td>-0.448313</td>\n",
       "      <td>1.536151</td>\n",
       "      <td>0</td>\n",
       "    </tr>\n",
       "  </tbody>\n",
       "</table>\n",
       "</div>"
      ],
      "text/plain": [
       "           d         m  target\n",
       "3  -0.736514 -1.398477       0\n",
       "7  -0.352246  0.340562       1\n",
       "6   0.800559 -0.094198       1\n",
       "2  -0.832581  1.101391       0\n",
       "10  1.473028  0.775322       2\n",
       "4  -0.448313  1.536151       0"
      ]
     },
     "execution_count": 34,
     "metadata": {},
     "output_type": "execute_result"
    }
   ],
   "source": [
    "X=df.drop('target',axis=1)\n",
    "y =df.target\n",
    "\n",
    "from sklearn.preprocessing import StandardScaler\n",
    "sc= StandardScaler()\n",
    "X_train = sc.fit_transform(X)\n",
    "y_train = y\n",
    "df_sc['target'] = y_train\n",
    "df_sc.head(8)\n",
    "df_sc.sample(6,random_state=1)"
   ]
  },
  {
   "cell_type": "code",
   "execution_count": 35,
   "id": "2a3d29c8",
   "metadata": {},
   "outputs": [
    {
     "name": "stdout",
     "output_type": "stream",
     "text": [
      "score: 1.0000\n",
      "score: 1.0\n",
      "actual y:  [0 0 0 0 0 0 1 1 1 1 2 2 0 0 0]\n",
      "predicted: [0 0 0 0 0 0 1 1 1 1 2 2 0 0 0]\n"
     ]
    },
    {
     "name": "stderr",
     "output_type": "stream",
     "text": [
      "D:\\Ancondas\\lib\\site-packages\\sklearn\\neural_network\\_multilayer_perceptron.py:692: ConvergenceWarning: Stochastic Optimizer: Maximum iterations (200) reached and the optimization hasn't converged yet.\n",
      "  warnings.warn(\n"
     ]
    }
   ],
   "source": [
    "#Case 1 use defult value \n",
    "\n",
    "#hidden =100\n",
    "from sklearn.neural_network import MLPClassifier\n",
    "\n",
    "hidden = 100\n",
    "\n",
    "model = MLPClassifier(random_state=1) \n",
    "\n",
    "model.fit(X_train, y_train)\n",
    "\n",
    "print('score: {:.4f}'.format(model.score(X_train, y_train)))\n",
    "print('score:', model.score(X_train, y_train).round(4)) \n",
    "print('actual y: ', np.array(y))\n",
    "print('predicted:', model.predict(X_train)) \n",
    "\n"
   ]
  },
  {
   "cell_type": "code",
   "execution_count": 36,
   "id": "6e24342a",
   "metadata": {},
   "outputs": [
    {
     "data": {
      "image/png": "[encoded data removed]",
      "text/plain": [
       "<Figure size 360x216 with 1 Axes>"
      ]
     },
     "metadata": {
      "needs_background": "light"
     },
     "output_type": "display_data"
    }
   ],
   "source": [
    "# loss cruve graph\n",
    "\n",
    "plt.figure(figsize=(5,3))\n",
    "plt.title('Loss curve')\n",
    "plt.xlabel('Iteration')\n",
    "plt.plot(model.loss_curve_)\n",
    "plt.tight_layout()\n",
    "plt.show()"
   ]
  },
  {
   "cell_type": "code",
   "execution_count": 37,
   "id": "042d332b",
   "metadata": {},
   "outputs": [
    {
     "data": {
      "text/plain": [
       "[(2, 100), (100, 3)]"
      ]
     },
     "execution_count": 37,
     "metadata": {},
     "output_type": "execute_result"
    }
   ],
   "source": [
    "[coef.shape for coef in model.coefs_]"
   ]
  },
  {
   "cell_type": "code",
   "execution_count": 38,
   "id": "d8856fd9",
   "metadata": {},
   "outputs": [
    {
     "data": {
      "image/png": "[encoded data removed]",
      "text/plain": [
       "<Figure size 432x288 with 1 Axes>"
      ]
     },
     "metadata": {},
     "output_type": "display_data"
    }
   ],
   "source": [
    "plot_decision_regions(X_train,np.array(y_train),clf=model,legend=2)\n",
    "plt.title('MLP: 3 Classes (hidden: {}, iter: {})'.format(hidden,iter))\n",
    "plt.xticks([])\n",
    "plt.yticks([])\n",
    "plt.xlabel('m(gram)')\n",
    "plt.ylabel('d(dimeter)')\n",
    "plt.show()"
   ]
  },
  {
   "cell_type": "code",
   "execution_count": 39,
   "id": "cbd9ed62",
   "metadata": {},
   "outputs": [
    {
     "name": "stdout",
     "output_type": "stream",
     "text": [
      "score: 1.0000\n",
      "score: 1.0\n",
      "actual y:  [0 0 0 0 0 0 1 1 1 1 2 2 0 0 0]\n",
      "predicted: [0 0 0 0 0 0 1 1 1 1 2 2 0 0 0]\n"
     ]
    }
   ],
   "source": [
    "#case 2\n",
    "#figure hiden and Iter\n",
    "\n",
    "\n",
    "hidden=4\n",
    "iter =2500\n",
    "model = MLPClassifier(hidden_layer_sizes=(hidden),max_iter=(iter),random_state=1)\n",
    "\n",
    "model.fit(X_train, y_train)\n",
    "\n",
    "print('score: {:.4f}'.format(model.score(X_train, y_train)))\n",
    "print('score:', model.score(X_train, y_train).round(4)) \n",
    "print('actual y: ', np.array(y))\n",
    "print('predicted:', model.predict(X_train)) "
   ]
  },
  {
   "cell_type": "code",
   "execution_count": 40,
   "id": "f419cfc9",
   "metadata": {},
   "outputs": [
    {
     "data": {
      "image/png": "[encoded data removed]",
      "text/plain": [
       "<Figure size 432x288 with 1 Axes>"
      ]
     },
     "metadata": {},
     "output_type": "display_data"
    }
   ],
   "source": [
    "plot_decision_regions(X_train,np.array(y_train),clf=model,legend=2)\n",
    "plt.title('MLP: 3 Classes (hidden: {}, iter: {})'.format(hidden,iter))\n",
    "plt.xticks([])\n",
    "plt.yticks([])\n",
    "plt.xlabel('m(gram)')\n",
    "plt.ylabel('d(dimeter)')\n",
    "plt.show()"
   ]
  },
  {
   "cell_type": "code",
   "execution_count": 41,
   "id": "7f9fd4c9",
   "metadata": {},
   "outputs": [
    {
     "data": {
      "image/png": "[encoded data removed]",
      "text/plain": [
       "<Figure size 360x216 with 1 Axes>"
      ]
     },
     "metadata": {
      "needs_background": "light"
     },
     "output_type": "display_data"
    }
   ],
   "source": [
    "# loss cruve graph\n",
    "\n",
    "plt.figure(figsize=(5,3))\n",
    "plt.title('Loss curve')\n",
    "plt.xlabel('Iteration')\n",
    "plt.plot(model.loss_curve_)\n",
    "plt.tight_layout()\n",
    "plt.show()"
   ]
  },
  {
   "cell_type": "code",
   "execution_count": 42,
   "id": "f95f5e30",
   "metadata": {},
   "outputs": [
    {
     "name": "stdout",
     "output_type": "stream",
     "text": [
      "score: 1.0000\n",
      "score: 1.0\n",
      "actual y:  [0 0 0 0 0 0 1 1 1 1 2 2 0 0 0]\n",
      "predicted: [0 0 0 0 0 0 1 1 1 1 2 2 0 0 0]\n"
     ]
    }
   ],
   "source": [
    "#case 3 \n",
    "\n",
    "hidden=30\n",
    "iter =2500\n",
    "model = MLPClassifier(hidden_layer_sizes=(hidden),max_iter=(iter),random_state=1)\n",
    "\n",
    "model.fit(X_train, y_train)\n",
    "\n",
    "print('score: {:.4f}'.format(model.score(X_train, y_train)))\n",
    "print('score:', model.score(X_train, y_train).round(4)) \n",
    "print('actual y: ', np.array(y))\n",
    "print('predicted:', model.predict(X_train)) "
   ]
  },
  {
   "cell_type": "code",
   "execution_count": 43,
   "id": "e2386211",
   "metadata": {},
   "outputs": [
    {
     "data": {
      "image/png": "[encoded data removed]",
      "text/plain": [
       "<Figure size 432x288 with 1 Axes>"
      ]
     },
     "metadata": {},
     "output_type": "display_data"
    }
   ],
   "source": [
    "plot_decision_regions(X_train,np.array(y_train),clf=model,legend=2)\n",
    "plt.title('MLP: 3 Classes (hidden: {}, iter: {})'.format(hidden,iter))\n",
    "plt.xticks([])\n",
    "plt.yticks([])\n",
    "plt.xlabel('m(gram)')\n",
    "plt.ylabel('d(dimeter)')\n",
    "plt.show()"
   ]
  },
  {
   "cell_type": "code",
   "execution_count": 44,
   "id": "7ce10447",
   "metadata": {},
   "outputs": [
    {
     "data": {
      "text/plain": [
       "[(2, 30), (30, 3)]"
      ]
     },
     "execution_count": 44,
     "metadata": {},
     "output_type": "execute_result"
    }
   ],
   "source": [
    "[coef.shape for coef in model.coefs_]"
   ]
  },
  {
   "cell_type": "code",
   "execution_count": 45,
   "id": "f617a773",
   "metadata": {},
   "outputs": [
    {
     "data": {
      "image/png": "[encoded data removed]",
      "text/plain": [
       "<Figure size 360x216 with 1 Axes>"
      ]
     },
     "metadata": {
      "needs_background": "light"
     },
     "output_type": "display_data"
    }
   ],
   "source": [
    "# loss cruve graph\n",
    "\n",
    "plt.figure(figsize=(5,3))\n",
    "plt.title('Loss curve')\n",
    "plt.xlabel('Iteration')\n",
    "plt.plot(model.loss_curve_)\n",
    "plt.tight_layout()\n",
    "plt.show()"
   ]
  },
  {
   "cell_type": "code",
   "execution_count": 46,
   "id": "e7a62136",
   "metadata": {},
   "outputs": [
    {
     "data": {
      "text/plain": [
       "[[8.4, 5.2], [6.8, 4.2]]"
      ]
     },
     "execution_count": 46,
     "metadata": {},
     "output_type": "execute_result"
    }
   ],
   "source": [
    "#predict function \n",
    "X_new = [[8.4,5.2], \n",
    "        [6.8,4.2]]\n",
    "\n",
    "X_new"
   ]
  },
  {
   "cell_type": "code",
   "execution_count": 47,
   "id": "af1051e1",
   "metadata": {},
   "outputs": [
    {
     "name": "stderr",
     "output_type": "stream",
     "text": [
      "D:\\Ancondas\\lib\\site-packages\\sklearn\\base.py:450: UserWarning: X does not have valid feature names, but StandardScaler was fitted with feature names\n",
      "  warnings.warn(\n"
     ]
    },
    {
     "data": {
      "text/plain": [
       "array([[ 0.99269274,  0.77532161],\n",
       "       [-0.54437989, -0.31157784]])"
      ]
     },
     "execution_count": 47,
     "metadata": {},
     "output_type": "execute_result"
    }
   ],
   "source": [
    "#transfrom \n",
    "X_new_sc = sc.transform(X_new)\n",
    "\n",
    "X_new_sc"
   ]
  },
  {
   "cell_type": "code",
   "execution_count": 48,
   "id": "7894f3d9",
   "metadata": {},
   "outputs": [
    {
     "data": {
      "text/plain": [
       "array([2, 1], dtype=int64)"
      ]
     },
     "execution_count": 48,
     "metadata": {},
     "output_type": "execute_result"
    }
   ],
   "source": [
    "#Predict \n",
    "model.predict(X_new_sc)"
   ]
  },
  {
   "cell_type": "code",
   "execution_count": 49,
   "id": "147af2ef",
   "metadata": {},
   "outputs": [
    {
     "data": {
      "image/png": "[encoded data removed]",
      "text/plain": [
       "<Figure size 324x252 with 1 Axes>"
      ]
     },
     "metadata": {},
     "output_type": "display_data"
    }
   ],
   "source": [
    "plt.figure(figsize=(4.5, 3.5))\n",
    "plot_decision_regions(X_train, np.array(y_train), clf=model,\n",
    "                      legend=2)\n",
    "\n",
    "plt.title('MLP: Prediction') \n",
    "plt.xticks([])\n",
    "plt.yticks([])\n",
    "plt.xlabel('m (gram)')\n",
    "plt.ylabel('d (diameter)')\n",
    "\n",
    "plt.scatter(X_new_sc[:,0], X_new_sc[:,1], marker='o', s=120, c='r')\n",
    "plt.show()"
   ]
  },
  {
   "cell_type": "code",
   "execution_count": 50,
   "id": "500b61c6",
   "metadata": {},
   "outputs": [],
   "source": [
    "#Workshop 7\n",
    "\n",
    "import pandas as pd \n",
    "import numpy as np\n",
    "import matplotlib.pyplot as plt \n",
    "import seaborn as sns \n",
    "\n"
   ]
  },
  {
   "cell_type": "code",
   "execution_count": 51,
   "id": "dbfbb181",
   "metadata": {},
   "outputs": [
    {
     "data": {
      "text/html": [
       "<div>\n",
       "<style scoped>\n",
       "    .dataframe tbody tr th:only-of-type {\n",
       "        vertical-align: middle;\n",
       "    }\n",
       "\n",
       "    .dataframe tbody tr th {\n",
       "        vertical-align: top;\n",
       "    }\n",
       "\n",
       "    .dataframe thead th {\n",
       "        text-align: right;\n",
       "    }\n",
       "</style>\n",
       "<table border=\"1\" class=\"dataframe\">\n",
       "  <thead>\n",
       "    <tr style=\"text-align: right;\">\n",
       "      <th></th>\n",
       "      <th>sepal_length</th>\n",
       "      <th>sepal_width</th>\n",
       "      <th>petal_length</th>\n",
       "      <th>petal_width</th>\n",
       "      <th>species</th>\n",
       "    </tr>\n",
       "  </thead>\n",
       "  <tbody>\n",
       "    <tr>\n",
       "      <th>51</th>\n",
       "      <td>6.4</td>\n",
       "      <td>3.2</td>\n",
       "      <td>4.5</td>\n",
       "      <td>1.5</td>\n",
       "      <td>versicolor</td>\n",
       "    </tr>\n",
       "    <tr>\n",
       "      <th>121</th>\n",
       "      <td>5.6</td>\n",
       "      <td>2.8</td>\n",
       "      <td>4.9</td>\n",
       "      <td>2.0</td>\n",
       "      <td>virginica</td>\n",
       "    </tr>\n",
       "    <tr>\n",
       "      <th>66</th>\n",
       "      <td>5.6</td>\n",
       "      <td>3.0</td>\n",
       "      <td>4.5</td>\n",
       "      <td>1.5</td>\n",
       "      <td>versicolor</td>\n",
       "    </tr>\n",
       "    <tr>\n",
       "      <th>75</th>\n",
       "      <td>6.6</td>\n",
       "      <td>3.0</td>\n",
       "      <td>4.4</td>\n",
       "      <td>1.4</td>\n",
       "      <td>versicolor</td>\n",
       "    </tr>\n",
       "    <tr>\n",
       "      <th>114</th>\n",
       "      <td>5.8</td>\n",
       "      <td>2.8</td>\n",
       "      <td>5.1</td>\n",
       "      <td>2.4</td>\n",
       "      <td>virginica</td>\n",
       "    </tr>\n",
       "  </tbody>\n",
       "</table>\n",
       "</div>"
      ],
      "text/plain": [
       "     sepal_length  sepal_width  petal_length  petal_width     species\n",
       "51            6.4          3.2           4.5          1.5  versicolor\n",
       "121           5.6          2.8           4.9          2.0   virginica\n",
       "66            5.6          3.0           4.5          1.5  versicolor\n",
       "75            6.6          3.0           4.4          1.4  versicolor\n",
       "114           5.8          2.8           5.1          2.4   virginica"
      ]
     },
     "execution_count": 51,
     "metadata": {},
     "output_type": "execute_result"
    }
   ],
   "source": [
    "df =sns.load_dataset('iris')\n",
    "df.head()\n",
    "df.sample(5)\n"
   ]
  },
  {
   "cell_type": "code",
   "execution_count": 52,
   "id": "5c6c5aa4",
   "metadata": {},
   "outputs": [
    {
     "data": {
      "text/plain": [
       "sepal_length    0\n",
       "sepal_width     0\n",
       "petal_length    0\n",
       "petal_width     0\n",
       "species         0\n",
       "dtype: int64"
      ]
     },
     "execution_count": 52,
     "metadata": {},
     "output_type": "execute_result"
    }
   ],
   "source": [
    "#check missing data \n",
    "df.isnull().sum()"
   ]
  },
  {
   "cell_type": "code",
   "execution_count": 53,
   "id": "c3e3323d",
   "metadata": {},
   "outputs": [
    {
     "data": {
      "text/plain": [
       "array(['setosa', 'versicolor', 'virginica'], dtype=object)"
      ]
     },
     "execution_count": 53,
     "metadata": {},
     "output_type": "execute_result"
    }
   ],
   "source": [
    "#check type of specise\n",
    "pd.unique(df.species)\n"
   ]
  },
  {
   "cell_type": "code",
   "execution_count": 54,
   "id": "0d13da07",
   "metadata": {},
   "outputs": [
    {
     "data": {
      "text/plain": [
       "Index(['setosa', 'versicolor', 'virginica'], dtype='object')"
      ]
     },
     "execution_count": 54,
     "metadata": {},
     "output_type": "execute_result"
    }
   ],
   "source": [
    "#encodenig  and keep infor in y \n",
    "y,class_name = pd.factorize(df.species,sort=True)\n",
    "\n",
    "class_name"
   ]
  },
  {
   "cell_type": "code",
   "execution_count": 55,
   "id": "31cfff46",
   "metadata": {},
   "outputs": [
    {
     "data": {
      "text/plain": [
       "array([0, 0, 0, 0, 0, 0, 0, 0, 0, 0, 1, 1, 1, 1, 1, 1, 1, 1, 1, 1],\n",
       "      dtype=int64)"
      ]
     },
     "execution_count": 55,
     "metadata": {},
     "output_type": "execute_result"
    }
   ],
   "source": [
    "y[40:60] #check some of infor"
   ]
  },
  {
   "cell_type": "code",
   "execution_count": 56,
   "id": "2eb90174",
   "metadata": {},
   "outputs": [
    {
     "data": {
      "text/plain": [
       "array([0, 1, 2], dtype=int64)"
      ]
     },
     "execution_count": 56,
     "metadata": {},
     "output_type": "execute_result"
    }
   ],
   "source": [
    "pd.unique(y)  #check  y (target)"
   ]
  },
  {
   "cell_type": "code",
   "execution_count": 57,
   "id": "a3df7599",
   "metadata": {},
   "outputs": [
    {
     "data": {
      "image/png": "[encoded data removed]",
      "text/plain": [
       "<Figure size 432x288 with 1 Axes>"
      ]
     },
     "metadata": {
      "needs_background": "light"
     },
     "output_type": "display_data"
    }
   ],
   "source": [
    "sns.scatterplot(x='petal_length',y='petal_width',data=df,hue='species',style = 'species')\n",
    "plt.show()"
   ]
  },
  {
   "cell_type": "code",
   "execution_count": 58,
   "id": "3426fc3c",
   "metadata": {},
   "outputs": [
    {
     "data": {
      "image/png": "[encoded data removed]",
      "text/plain": [
       "<Figure size 804.75x720 with 20 Axes>"
      ]
     },
     "metadata": {
      "needs_background": "light"
     },
     "output_type": "display_data"
    }
   ],
   "source": [
    "sns.pairplot(df,hue='species')\n",
    "plt.show()"
   ]
  },
  {
   "cell_type": "code",
   "execution_count": 59,
   "id": "daf72b28",
   "metadata": {},
   "outputs": [
    {
     "data": {
      "text/html": [
       "<div>\n",
       "<style scoped>\n",
       "    .dataframe tbody tr th:only-of-type {\n",
       "        vertical-align: middle;\n",
       "    }\n",
       "\n",
       "    .dataframe tbody tr th {\n",
       "        vertical-align: top;\n",
       "    }\n",
       "\n",
       "    .dataframe thead th {\n",
       "        text-align: right;\n",
       "    }\n",
       "</style>\n",
       "<table border=\"1\" class=\"dataframe\">\n",
       "  <thead>\n",
       "    <tr style=\"text-align: right;\">\n",
       "      <th></th>\n",
       "      <th>sepal_length</th>\n",
       "      <th>sepal_width</th>\n",
       "      <th>petal_length</th>\n",
       "      <th>petal_width</th>\n",
       "    </tr>\n",
       "  </thead>\n",
       "  <tbody>\n",
       "    <tr>\n",
       "      <th>0</th>\n",
       "      <td>5.1</td>\n",
       "      <td>3.5</td>\n",
       "      <td>1.4</td>\n",
       "      <td>0.2</td>\n",
       "    </tr>\n",
       "    <tr>\n",
       "      <th>1</th>\n",
       "      <td>4.9</td>\n",
       "      <td>3.0</td>\n",
       "      <td>1.4</td>\n",
       "      <td>0.2</td>\n",
       "    </tr>\n",
       "    <tr>\n",
       "      <th>2</th>\n",
       "      <td>4.7</td>\n",
       "      <td>3.2</td>\n",
       "      <td>1.3</td>\n",
       "      <td>0.2</td>\n",
       "    </tr>\n",
       "    <tr>\n",
       "      <th>3</th>\n",
       "      <td>4.6</td>\n",
       "      <td>3.1</td>\n",
       "      <td>1.5</td>\n",
       "      <td>0.2</td>\n",
       "    </tr>\n",
       "    <tr>\n",
       "      <th>4</th>\n",
       "      <td>5.0</td>\n",
       "      <td>3.6</td>\n",
       "      <td>1.4</td>\n",
       "      <td>0.2</td>\n",
       "    </tr>\n",
       "  </tbody>\n",
       "</table>\n",
       "</div>"
      ],
      "text/plain": [
       "   sepal_length  sepal_width  petal_length  petal_width\n",
       "0           5.1          3.5           1.4          0.2\n",
       "1           4.9          3.0           1.4          0.2\n",
       "2           4.7          3.2           1.3          0.2\n",
       "3           4.6          3.1           1.5          0.2\n",
       "4           5.0          3.6           1.4          0.2"
      ]
     },
     "execution_count": 59,
     "metadata": {},
     "output_type": "execute_result"
    }
   ],
   "source": [
    "#Prepare infor\n",
    "\n",
    "X = df.drop('species',axis=1) # X(feture)\n",
    "X.head()"
   ]
  },
  {
   "cell_type": "code",
   "execution_count": 60,
   "id": "f0beaf14",
   "metadata": {},
   "outputs": [
    {
     "data": {
      "text/plain": [
       "array([[-0.90068117,  1.01900435, -1.34022653, -1.3154443 ],\n",
       "       [-1.14301691, -0.13197948, -1.34022653, -1.3154443 ],\n",
       "       [-1.38535265,  0.32841405, -1.39706395, -1.3154443 ],\n",
       "       [-1.50652052,  0.09821729, -1.2833891 , -1.3154443 ],\n",
       "       [-1.02184904,  1.24920112, -1.34022653, -1.3154443 ]])"
      ]
     },
     "execution_count": 60,
     "metadata": {},
     "output_type": "execute_result"
    }
   ],
   "source": [
    "from sklearn.preprocessing import StandardScaler\n",
    "\n",
    "sc = StandardScaler()\n",
    "X_sc = sc.fit_transform(X)\n",
    "X_sc[:5]"
   ]
  },
  {
   "cell_type": "code",
   "execution_count": 61,
   "id": "1c0efb60",
   "metadata": {},
   "outputs": [
    {
     "data": {
      "text/plain": [
       "(112, 38)"
      ]
     },
     "execution_count": 61,
     "metadata": {},
     "output_type": "execute_result"
    }
   ],
   "source": [
    "#แบ่งข้อมูล test 25% and test 75%\n",
    "\n",
    "from sklearn.model_selection import train_test_split\n",
    "\n",
    "X_train, X_test, y_train, y_test = train_test_split(X_sc, y, test_size=0.25, random_state=1) #\n",
    "\n",
    "len(X_train),len(X_test)"
   ]
  },
  {
   "cell_type": "code",
   "execution_count": 62,
   "id": "7c39b4c8",
   "metadata": {},
   "outputs": [
    {
     "data": {
      "text/plain": [
       "MLPClassifier(hidden_layer_sizes=4, max_iter=2000, random_state=1)"
      ]
     },
     "execution_count": 62,
     "metadata": {},
     "output_type": "execute_result"
    }
   ],
   "source": [
    "#train and test \n",
    "from sklearn.neural_network import  MLPClassifier\n",
    "\n",
    "model = MLPClassifier(hidden_layer_sizes=(4),max_iter=(2000),random_state=1)\n",
    "model.fit(X_train,y_train)\n"
   ]
  },
  {
   "cell_type": "code",
   "execution_count": 63,
   "id": "615dfc4b",
   "metadata": {},
   "outputs": [
    {
     "name": "stdout",
     "output_type": "stream",
     "text": [
      "Score -> 0.9737\n",
      "              precision    recall  f1-score   support\n",
      "\n",
      "      setosa       1.00      1.00      1.00        13\n",
      "  versicolor       1.00      0.94      0.97        16\n",
      "   virginica       0.90      1.00      0.95         9\n",
      "\n",
      "    accuracy                           0.97        38\n",
      "   macro avg       0.97      0.98      0.97        38\n",
      "weighted avg       0.98      0.97      0.97        38\n",
      "\n",
      "[[13  0  0]\n",
      " [ 0 15  1]\n",
      " [ 0  0  9]]\n"
     ]
    }
   ],
   "source": [
    "from sklearn.metrics import classification_report,confusion_matrix\n",
    "\n",
    "y_predict = model.predict(X_test)\n",
    "print('Score -> {:.4f}'.format(model.score(X_test,y_test)))\n",
    "print(classification_report(y_test,y_predict,target_names=class_name))\n",
    "print(confusion_matrix(y_test,y_predict))"
   ]
  },
  {
   "cell_type": "code",
   "execution_count": 64,
   "id": "16fc8027",
   "metadata": {},
   "outputs": [
    {
     "data": {
      "text/plain": [
       "[(4, 4), (4, 3)]"
      ]
     },
     "execution_count": 64,
     "metadata": {},
     "output_type": "execute_result"
    }
   ],
   "source": [
    "[coef.shape for coef in model.coefs_]"
   ]
  },
  {
   "cell_type": "code",
   "execution_count": 65,
   "id": "8a548e6a",
   "metadata": {},
   "outputs": [
    {
     "name": "stderr",
     "output_type": "stream",
     "text": [
      "D:\\Ancondas\\lib\\site-packages\\sklearn\\base.py:450: UserWarning: X does not have valid feature names, but StandardScaler was fitted with feature names\n",
      "  warnings.warn(\n"
     ]
    },
    {
     "data": {
      "text/plain": [
       "array([[0.31099753, 1.01900435, 0.08070915, 0.52740629]])"
      ]
     },
     "execution_count": 65,
     "metadata": {},
     "output_type": "execute_result"
    }
   ],
   "source": [
    "#predict \n",
    "\n",
    "X_new = [[5.1,3.5,3.4,1.4]]\n",
    "X_new = [[6.1,3.5,3.9,1.6]]\n",
    "\n",
    "X_new_sc=sc.transform(X_new)\n",
    "X_new_sc"
   ]
  },
  {
   "cell_type": "code",
   "execution_count": 66,
   "id": "77540c76",
   "metadata": {},
   "outputs": [
    {
     "name": "stdout",
     "output_type": "stream",
     "text": [
      "versicolor\n"
     ]
    }
   ],
   "source": [
    "y_pred =model.predict(X_new_sc)\n",
    "print(class_name[y_pred][0])"
   ]
  },
  {
   "cell_type": "code",
   "execution_count": 67,
   "id": "d9deed3c",
   "metadata": {},
   "outputs": [
    {
     "data": {
      "image/png": "[encoded data removed]",
      "text/plain": [
       "<Figure size 432x288 with 1 Axes>"
      ]
     },
     "metadata": {},
     "output_type": "display_data"
    }
   ],
   "source": [
    "from mlxtend.plotting import plot_decision_regions\n",
    "\n",
    "value = 0\n",
    "width =3.5\n",
    "ax = plot_decision_regions(X_test,np.array(y_test),clf=model,\n",
    "                           feature_index=[2,3],  #feture colum2,3\n",
    "                           filler_feature_values={0:value,1:value},\n",
    "                           filler_feature_ranges={0:width,1:width},\n",
    "                          legend=2)\n",
    "\n",
    "handles , labels =ax.get_legend_handles_labels()\n",
    "ax.legend(handles,class_name,framealpha = 0.5)\n",
    "\n",
    "plt.title('MLP: Prediction') \n",
    "plt.xticks([])\n",
    "plt.yticks([])\n",
    "plt.xlabel('m (gram)')\n",
    "plt.ylabel('d (diameter)')\n",
    "\n",
    "#Marker\n",
    "plt.scatter(X_new_sc[:,2], X_new_sc[:,3], marker='o', s=130, c='r')\n",
    "plt.show()"
   ]
  },
  {
   "cell_type": "code",
   "execution_count": 69,
   "id": "54909646",
   "metadata": {},
   "outputs": [
    {
     "data": {
      "image/png": "[encoded data removed]",
      "text/plain": [
       "<Figure size 432x288 with 1 Axes>"
      ]
     },
     "metadata": {
      "needs_background": "light"
     },
     "output_type": "display_data"
    }
   ],
   "source": [
    "#Workshop 8 if loss information\n",
    "\n",
    "df.loc[0,'sepal_length'] = None \n",
    "sns.scatterplot(x='petal_length',y='petal_length',data=df,hue='species',style='species',s=80)\n",
    "plt.show()\n"
   ]
  },
  {
   "cell_type": "code",
   "execution_count": 70,
   "id": "9a2bf27d",
   "metadata": {},
   "outputs": [
    {
     "data": {
      "text/plain": [
       "sepal_length    1\n",
       "sepal_width     0\n",
       "petal_length    0\n",
       "petal_width     0\n",
       "species         0\n",
       "dtype: int64"
      ]
     },
     "execution_count": 70,
     "metadata": {},
     "output_type": "execute_result"
    }
   ],
   "source": [
    "#check loss infor \n",
    "\n",
    "df.isnull().sum()"
   ]
  },
  {
   "cell_type": "code",
   "execution_count": 73,
   "id": "950dc0a8",
   "metadata": {},
   "outputs": [
    {
     "data": {
      "text/html": [
       "<div>\n",
       "<style scoped>\n",
       "    .dataframe tbody tr th:only-of-type {\n",
       "        vertical-align: middle;\n",
       "    }\n",
       "\n",
       "    .dataframe tbody tr th {\n",
       "        vertical-align: top;\n",
       "    }\n",
       "\n",
       "    .dataframe thead th {\n",
       "        text-align: right;\n",
       "    }\n",
       "</style>\n",
       "<table border=\"1\" class=\"dataframe\">\n",
       "  <thead>\n",
       "    <tr style=\"text-align: right;\">\n",
       "      <th></th>\n",
       "      <th>sepal_length</th>\n",
       "      <th>sepal_width</th>\n",
       "      <th>petal_length</th>\n",
       "      <th>petal_width</th>\n",
       "      <th>species</th>\n",
       "    </tr>\n",
       "  </thead>\n",
       "  <tbody>\n",
       "    <tr>\n",
       "      <th>0</th>\n",
       "      <td>NaN</td>\n",
       "      <td>3.5</td>\n",
       "      <td>1.4</td>\n",
       "      <td>0.2</td>\n",
       "      <td>setosa</td>\n",
       "    </tr>\n",
       "    <tr>\n",
       "      <th>1</th>\n",
       "      <td>4.9</td>\n",
       "      <td>3.0</td>\n",
       "      <td>1.4</td>\n",
       "      <td>0.2</td>\n",
       "      <td>setosa</td>\n",
       "    </tr>\n",
       "    <tr>\n",
       "      <th>2</th>\n",
       "      <td>4.7</td>\n",
       "      <td>3.2</td>\n",
       "      <td>1.3</td>\n",
       "      <td>0.2</td>\n",
       "      <td>setosa</td>\n",
       "    </tr>\n",
       "    <tr>\n",
       "      <th>3</th>\n",
       "      <td>4.6</td>\n",
       "      <td>3.1</td>\n",
       "      <td>1.5</td>\n",
       "      <td>0.2</td>\n",
       "      <td>setosa</td>\n",
       "    </tr>\n",
       "  </tbody>\n",
       "</table>\n",
       "</div>"
      ],
      "text/plain": [
       "   sepal_length  sepal_width  petal_length  petal_width species\n",
       "0           NaN          3.5           1.4          0.2  setosa\n",
       "1           4.9          3.0           1.4          0.2  setosa\n",
       "2           4.7          3.2           1.3          0.2  setosa\n",
       "3           4.6          3.1           1.5          0.2  setosa"
      ]
     },
     "execution_count": 73,
     "metadata": {},
     "output_type": "execute_result"
    }
   ],
   "source": [
    "df.describe()\n",
    "df.head(4)"
   ]
  },
  {
   "cell_type": "code",
   "execution_count": 76,
   "id": "5c2b803d",
   "metadata": {},
   "outputs": [
    {
     "data": {
      "text/plain": [
       "Index(['setosa', 'versicolor', 'virginica'], dtype='object')"
      ]
     },
     "execution_count": 76,
     "metadata": {},
     "output_type": "execute_result"
    }
   ],
   "source": [
    "#check again\n",
    "\n",
    "y,class_names =pd.factorize(df.species,sort=8)\n",
    "class_name"
   ]
  },
  {
   "cell_type": "code",
   "execution_count": 77,
   "id": "c376460f",
   "metadata": {},
   "outputs": [
    {
     "data": {
      "text/plain": [
       "array([0, 0, 0, 0, 0, 0, 0, 0, 0, 0, 1, 1, 1, 1, 1, 1, 1, 1, 1, 1],\n",
       "      dtype=int64)"
      ]
     },
     "execution_count": 77,
     "metadata": {},
     "output_type": "execute_result"
    }
   ],
   "source": [
    "y[40:60]"
   ]
  },
  {
   "cell_type": "code",
   "execution_count": 78,
   "id": "d7755d55",
   "metadata": {},
   "outputs": [
    {
     "data": {
      "text/plain": [
       "array([0, 1, 2], dtype=int64)"
      ]
     },
     "execution_count": 78,
     "metadata": {},
     "output_type": "execute_result"
    }
   ],
   "source": [
    "pd.unique(y)"
   ]
  },
  {
   "cell_type": "code",
   "execution_count": 79,
   "id": "fbd2509c",
   "metadata": {},
   "outputs": [
    {
     "data": {
      "text/html": [
       "<div>\n",
       "<style scoped>\n",
       "    .dataframe tbody tr th:only-of-type {\n",
       "        vertical-align: middle;\n",
       "    }\n",
       "\n",
       "    .dataframe tbody tr th {\n",
       "        vertical-align: top;\n",
       "    }\n",
       "\n",
       "    .dataframe thead th {\n",
       "        text-align: right;\n",
       "    }\n",
       "</style>\n",
       "<table border=\"1\" class=\"dataframe\">\n",
       "  <thead>\n",
       "    <tr style=\"text-align: right;\">\n",
       "      <th></th>\n",
       "      <th>sepal_length</th>\n",
       "      <th>sepal_width</th>\n",
       "      <th>petal_length</th>\n",
       "      <th>petal_width</th>\n",
       "    </tr>\n",
       "  </thead>\n",
       "  <tbody>\n",
       "    <tr>\n",
       "      <th>0</th>\n",
       "      <td>NaN</td>\n",
       "      <td>3.5</td>\n",
       "      <td>1.4</td>\n",
       "      <td>0.2</td>\n",
       "    </tr>\n",
       "    <tr>\n",
       "      <th>1</th>\n",
       "      <td>4.9</td>\n",
       "      <td>3.0</td>\n",
       "      <td>1.4</td>\n",
       "      <td>0.2</td>\n",
       "    </tr>\n",
       "    <tr>\n",
       "      <th>2</th>\n",
       "      <td>4.7</td>\n",
       "      <td>3.2</td>\n",
       "      <td>1.3</td>\n",
       "      <td>0.2</td>\n",
       "    </tr>\n",
       "    <tr>\n",
       "      <th>3</th>\n",
       "      <td>4.6</td>\n",
       "      <td>3.1</td>\n",
       "      <td>1.5</td>\n",
       "      <td>0.2</td>\n",
       "    </tr>\n",
       "    <tr>\n",
       "      <th>4</th>\n",
       "      <td>5.0</td>\n",
       "      <td>3.6</td>\n",
       "      <td>1.4</td>\n",
       "      <td>0.2</td>\n",
       "    </tr>\n",
       "  </tbody>\n",
       "</table>\n",
       "</div>"
      ],
      "text/plain": [
       "   sepal_length  sepal_width  petal_length  petal_width\n",
       "0           NaN          3.5           1.4          0.2\n",
       "1           4.9          3.0           1.4          0.2\n",
       "2           4.7          3.2           1.3          0.2\n",
       "3           4.6          3.1           1.5          0.2\n",
       "4           5.0          3.6           1.4          0.2"
      ]
     },
     "execution_count": 79,
     "metadata": {},
     "output_type": "execute_result"
    }
   ],
   "source": [
    "X = df.drop('species',axis =1 )\n",
    "X.head()"
   ]
  },
  {
   "cell_type": "code",
   "execution_count": 80,
   "id": "8e2b9e84",
   "metadata": {},
   "outputs": [
    {
     "data": {
      "text/plain": [
       "array([[        nan,  1.01900435, -1.34022653, -1.3154443 ],\n",
       "       [-1.1483555 , -0.13197948, -1.34022653, -1.3154443 ],\n",
       "       [-1.3905423 ,  0.32841405, -1.39706395, -1.3154443 ],\n",
       "       [-1.51163569,  0.09821729, -1.2833891 , -1.3154443 ],\n",
       "       [-1.02726211,  1.24920112, -1.34022653, -1.3154443 ]])"
      ]
     },
     "execution_count": 80,
     "metadata": {},
     "output_type": "execute_result"
    }
   ],
   "source": [
    "from sklearn.preprocessing import StandardScaler\n",
    "\n",
    "sc =StandardScaler()\n",
    "X_sc = sc.fit_transform(X)\n",
    "X_sc[:5]"
   ]
  },
  {
   "cell_type": "code",
   "execution_count": 82,
   "id": "2c2c912a",
   "metadata": {},
   "outputs": [
    {
     "data": {
      "text/plain": [
       "(112, 38)"
      ]
     },
     "execution_count": 82,
     "metadata": {},
     "output_type": "execute_result"
    }
   ],
   "source": [
    "# แบ่ง test train\n",
    "\n",
    "from sklearn.model_selection import train_test_split\n",
    "from sklearn.metrics import classification_report,confusion_matrix\n",
    "\n",
    "X_train, X_test, y_train, y_test = train_test_split(X_sc, y, test_size=0.25, random_state=1) #\n",
    "\n",
    "len(X_train),len(X_test)\n",
    "\n"
   ]
  },
  {
   "cell_type": "code",
   "execution_count": 84,
   "id": "0d0404f5",
   "metadata": {},
   "outputs": [
    {
     "ename": "ValueError",
     "evalue": "Input contains NaN, infinity or a value too large for dtype('float64').",
     "output_type": "error",
     "traceback": [
      "\u001b[1;31m---------------------------------------------------------------------------\u001b[0m",
      "\u001b[1;31mValueError\u001b[0m                                Traceback (most recent call last)",
      "Input \u001b[1;32mIn [84]\u001b[0m, in \u001b[0;36m<cell line: 4>\u001b[1;34m()\u001b[0m\n\u001b[0;32m      1\u001b[0m \u001b[38;5;28;01mfrom\u001b[39;00m \u001b[38;5;21;01msklearn\u001b[39;00m\u001b[38;5;21;01m.\u001b[39;00m\u001b[38;5;21;01mneural_network\u001b[39;00m \u001b[38;5;28;01mimport\u001b[39;00m MLPClassifier\n\u001b[0;32m      3\u001b[0m model \u001b[38;5;241m=\u001b[39m MLPClassifier(hidden_layer_sizes\u001b[38;5;241m=\u001b[39m(\u001b[38;5;241m4\u001b[39m), max_iter\u001b[38;5;241m=\u001b[39m\u001b[38;5;241m2000\u001b[39m, random_state\u001b[38;5;241m=\u001b[39m\u001b[38;5;241m1\u001b[39m)  \u001b[38;5;66;03m# \u001b[39;00m\n\u001b[1;32m----> 4\u001b[0m \u001b[43mmodel\u001b[49m\u001b[38;5;241;43m.\u001b[39;49m\u001b[43mfit\u001b[49m\u001b[43m(\u001b[49m\u001b[43mX_train\u001b[49m\u001b[43m,\u001b[49m\u001b[43m \u001b[49m\u001b[43my_train\u001b[49m\u001b[43m)\u001b[49m\n",
      "File \u001b[1;32mD:\\Ancondas\\lib\\site-packages\\sklearn\\neural_network\\_multilayer_perceptron.py:752\u001b[0m, in \u001b[0;36mBaseMultilayerPerceptron.fit\u001b[1;34m(self, X, y)\u001b[0m\n\u001b[0;32m    735\u001b[0m \u001b[38;5;28;01mdef\u001b[39;00m \u001b[38;5;21mfit\u001b[39m(\u001b[38;5;28mself\u001b[39m, X, y):\n\u001b[0;32m    736\u001b[0m     \u001b[38;5;124;03m\"\"\"Fit the model to data matrix X and target(s) y.\u001b[39;00m\n\u001b[0;32m    737\u001b[0m \n\u001b[0;32m    738\u001b[0m \u001b[38;5;124;03m    Parameters\u001b[39;00m\n\u001b[1;32m   (...)\u001b[0m\n\u001b[0;32m    750\u001b[0m \u001b[38;5;124;03m        Returns a trained MLP model.\u001b[39;00m\n\u001b[0;32m    751\u001b[0m \u001b[38;5;124;03m    \"\"\"\u001b[39;00m\n\u001b[1;32m--> 752\u001b[0m     \u001b[38;5;28;01mreturn\u001b[39;00m \u001b[38;5;28;43mself\u001b[39;49m\u001b[38;5;241;43m.\u001b[39;49m\u001b[43m_fit\u001b[49m\u001b[43m(\u001b[49m\u001b[43mX\u001b[49m\u001b[43m,\u001b[49m\u001b[43m \u001b[49m\u001b[43my\u001b[49m\u001b[43m,\u001b[49m\u001b[43m \u001b[49m\u001b[43mincremental\u001b[49m\u001b[38;5;241;43m=\u001b[39;49m\u001b[38;5;28;43;01mFalse\u001b[39;49;00m\u001b[43m)\u001b[49m\n",
      "File \u001b[1;32mD:\\Ancondas\\lib\\site-packages\\sklearn\\neural_network\\_multilayer_perceptron.py:393\u001b[0m, in \u001b[0;36mBaseMultilayerPerceptron._fit\u001b[1;34m(self, X, y, incremental)\u001b[0m\n\u001b[0;32m    386\u001b[0m     \u001b[38;5;28;01mraise\u001b[39;00m \u001b[38;5;167;01mValueError\u001b[39;00m(\n\u001b[0;32m    387\u001b[0m         \u001b[38;5;124m\"\u001b[39m\u001b[38;5;124mhidden_layer_sizes must be > 0, got \u001b[39m\u001b[38;5;132;01m%s\u001b[39;00m\u001b[38;5;124m.\u001b[39m\u001b[38;5;124m\"\u001b[39m \u001b[38;5;241m%\u001b[39m hidden_layer_sizes\n\u001b[0;32m    388\u001b[0m     )\n\u001b[0;32m    389\u001b[0m first_pass \u001b[38;5;241m=\u001b[39m \u001b[38;5;129;01mnot\u001b[39;00m \u001b[38;5;28mhasattr\u001b[39m(\u001b[38;5;28mself\u001b[39m, \u001b[38;5;124m\"\u001b[39m\u001b[38;5;124mcoefs_\u001b[39m\u001b[38;5;124m\"\u001b[39m) \u001b[38;5;129;01mor\u001b[39;00m (\n\u001b[0;32m    390\u001b[0m     \u001b[38;5;129;01mnot\u001b[39;00m \u001b[38;5;28mself\u001b[39m\u001b[38;5;241m.\u001b[39mwarm_start \u001b[38;5;129;01mand\u001b[39;00m \u001b[38;5;129;01mnot\u001b[39;00m incremental\n\u001b[0;32m    391\u001b[0m )\n\u001b[1;32m--> 393\u001b[0m X, y \u001b[38;5;241m=\u001b[39m \u001b[38;5;28;43mself\u001b[39;49m\u001b[38;5;241;43m.\u001b[39;49m\u001b[43m_validate_input\u001b[49m\u001b[43m(\u001b[49m\u001b[43mX\u001b[49m\u001b[43m,\u001b[49m\u001b[43m \u001b[49m\u001b[43my\u001b[49m\u001b[43m,\u001b[49m\u001b[43m \u001b[49m\u001b[43mincremental\u001b[49m\u001b[43m,\u001b[49m\u001b[43m \u001b[49m\u001b[43mreset\u001b[49m\u001b[38;5;241;43m=\u001b[39;49m\u001b[43mfirst_pass\u001b[49m\u001b[43m)\u001b[49m\n\u001b[0;32m    395\u001b[0m n_samples, n_features \u001b[38;5;241m=\u001b[39m X\u001b[38;5;241m.\u001b[39mshape\n\u001b[0;32m    397\u001b[0m \u001b[38;5;66;03m# Ensure y is 2D\u001b[39;00m\n",
      "File \u001b[1;32mD:\\Ancondas\\lib\\site-packages\\sklearn\\neural_network\\_multilayer_perceptron.py:1100\u001b[0m, in \u001b[0;36mMLPClassifier._validate_input\u001b[1;34m(self, X, y, incremental, reset)\u001b[0m\n\u001b[0;32m   1099\u001b[0m \u001b[38;5;28;01mdef\u001b[39;00m \u001b[38;5;21m_validate_input\u001b[39m(\u001b[38;5;28mself\u001b[39m, X, y, incremental, reset):\n\u001b[1;32m-> 1100\u001b[0m     X, y \u001b[38;5;241m=\u001b[39m \u001b[38;5;28;43mself\u001b[39;49m\u001b[38;5;241;43m.\u001b[39;49m\u001b[43m_validate_data\u001b[49m\u001b[43m(\u001b[49m\n\u001b[0;32m   1101\u001b[0m \u001b[43m        \u001b[49m\u001b[43mX\u001b[49m\u001b[43m,\u001b[49m\n\u001b[0;32m   1102\u001b[0m \u001b[43m        \u001b[49m\u001b[43my\u001b[49m\u001b[43m,\u001b[49m\n\u001b[0;32m   1103\u001b[0m \u001b[43m        \u001b[49m\u001b[43maccept_sparse\u001b[49m\u001b[38;5;241;43m=\u001b[39;49m\u001b[43m[\u001b[49m\u001b[38;5;124;43m\"\u001b[39;49m\u001b[38;5;124;43mcsr\u001b[39;49m\u001b[38;5;124;43m\"\u001b[39;49m\u001b[43m,\u001b[49m\u001b[43m \u001b[49m\u001b[38;5;124;43m\"\u001b[39;49m\u001b[38;5;124;43mcsc\u001b[39;49m\u001b[38;5;124;43m\"\u001b[39;49m\u001b[43m]\u001b[49m\u001b[43m,\u001b[49m\n\u001b[0;32m   1104\u001b[0m \u001b[43m        \u001b[49m\u001b[43mmulti_output\u001b[49m\u001b[38;5;241;43m=\u001b[39;49m\u001b[38;5;28;43;01mTrue\u001b[39;49;00m\u001b[43m,\u001b[49m\n\u001b[0;32m   1105\u001b[0m \u001b[43m        \u001b[49m\u001b[43mdtype\u001b[49m\u001b[38;5;241;43m=\u001b[39;49m\u001b[43m(\u001b[49m\u001b[43mnp\u001b[49m\u001b[38;5;241;43m.\u001b[39;49m\u001b[43mfloat64\u001b[49m\u001b[43m,\u001b[49m\u001b[43m \u001b[49m\u001b[43mnp\u001b[49m\u001b[38;5;241;43m.\u001b[39;49m\u001b[43mfloat32\u001b[49m\u001b[43m)\u001b[49m\u001b[43m,\u001b[49m\n\u001b[0;32m   1106\u001b[0m \u001b[43m        \u001b[49m\u001b[43mreset\u001b[49m\u001b[38;5;241;43m=\u001b[39;49m\u001b[43mreset\u001b[49m\u001b[43m,\u001b[49m\n\u001b[0;32m   1107\u001b[0m \u001b[43m    \u001b[49m\u001b[43m)\u001b[49m\n\u001b[0;32m   1108\u001b[0m     \u001b[38;5;28;01mif\u001b[39;00m y\u001b[38;5;241m.\u001b[39mndim \u001b[38;5;241m==\u001b[39m \u001b[38;5;241m2\u001b[39m \u001b[38;5;129;01mand\u001b[39;00m y\u001b[38;5;241m.\u001b[39mshape[\u001b[38;5;241m1\u001b[39m] \u001b[38;5;241m==\u001b[39m \u001b[38;5;241m1\u001b[39m:\n\u001b[0;32m   1109\u001b[0m         y \u001b[38;5;241m=\u001b[39m column_or_1d(y, warn\u001b[38;5;241m=\u001b[39m\u001b[38;5;28;01mTrue\u001b[39;00m)\n",
      "File \u001b[1;32mD:\\Ancondas\\lib\\site-packages\\sklearn\\base.py:581\u001b[0m, in \u001b[0;36mBaseEstimator._validate_data\u001b[1;34m(self, X, y, reset, validate_separately, **check_params)\u001b[0m\n\u001b[0;32m    579\u001b[0m         y \u001b[38;5;241m=\u001b[39m check_array(y, \u001b[38;5;241m*\u001b[39m\u001b[38;5;241m*\u001b[39mcheck_y_params)\n\u001b[0;32m    580\u001b[0m     \u001b[38;5;28;01melse\u001b[39;00m:\n\u001b[1;32m--> 581\u001b[0m         X, y \u001b[38;5;241m=\u001b[39m check_X_y(X, y, \u001b[38;5;241m*\u001b[39m\u001b[38;5;241m*\u001b[39mcheck_params)\n\u001b[0;32m    582\u001b[0m     out \u001b[38;5;241m=\u001b[39m X, y\n\u001b[0;32m    584\u001b[0m \u001b[38;5;28;01mif\u001b[39;00m \u001b[38;5;129;01mnot\u001b[39;00m no_val_X \u001b[38;5;129;01mand\u001b[39;00m check_params\u001b[38;5;241m.\u001b[39mget(\u001b[38;5;124m\"\u001b[39m\u001b[38;5;124mensure_2d\u001b[39m\u001b[38;5;124m\"\u001b[39m, \u001b[38;5;28;01mTrue\u001b[39;00m):\n",
      "File \u001b[1;32mD:\\Ancondas\\lib\\site-packages\\sklearn\\utils\\validation.py:964\u001b[0m, in \u001b[0;36mcheck_X_y\u001b[1;34m(X, y, accept_sparse, accept_large_sparse, dtype, order, copy, force_all_finite, ensure_2d, allow_nd, multi_output, ensure_min_samples, ensure_min_features, y_numeric, estimator)\u001b[0m\n\u001b[0;32m    961\u001b[0m \u001b[38;5;28;01mif\u001b[39;00m y \u001b[38;5;129;01mis\u001b[39;00m \u001b[38;5;28;01mNone\u001b[39;00m:\n\u001b[0;32m    962\u001b[0m     \u001b[38;5;28;01mraise\u001b[39;00m \u001b[38;5;167;01mValueError\u001b[39;00m(\u001b[38;5;124m\"\u001b[39m\u001b[38;5;124my cannot be None\u001b[39m\u001b[38;5;124m\"\u001b[39m)\n\u001b[1;32m--> 964\u001b[0m X \u001b[38;5;241m=\u001b[39m \u001b[43mcheck_array\u001b[49m\u001b[43m(\u001b[49m\n\u001b[0;32m    965\u001b[0m \u001b[43m    \u001b[49m\u001b[43mX\u001b[49m\u001b[43m,\u001b[49m\n\u001b[0;32m    966\u001b[0m \u001b[43m    \u001b[49m\u001b[43maccept_sparse\u001b[49m\u001b[38;5;241;43m=\u001b[39;49m\u001b[43maccept_sparse\u001b[49m\u001b[43m,\u001b[49m\n\u001b[0;32m    967\u001b[0m \u001b[43m    \u001b[49m\u001b[43maccept_large_sparse\u001b[49m\u001b[38;5;241;43m=\u001b[39;49m\u001b[43maccept_large_sparse\u001b[49m\u001b[43m,\u001b[49m\n\u001b[0;32m    968\u001b[0m \u001b[43m    \u001b[49m\u001b[43mdtype\u001b[49m\u001b[38;5;241;43m=\u001b[39;49m\u001b[43mdtype\u001b[49m\u001b[43m,\u001b[49m\n\u001b[0;32m    969\u001b[0m \u001b[43m    \u001b[49m\u001b[43morder\u001b[49m\u001b[38;5;241;43m=\u001b[39;49m\u001b[43morder\u001b[49m\u001b[43m,\u001b[49m\n\u001b[0;32m    970\u001b[0m \u001b[43m    \u001b[49m\u001b[43mcopy\u001b[49m\u001b[38;5;241;43m=\u001b[39;49m\u001b[43mcopy\u001b[49m\u001b[43m,\u001b[49m\n\u001b[0;32m    971\u001b[0m \u001b[43m    \u001b[49m\u001b[43mforce_all_finite\u001b[49m\u001b[38;5;241;43m=\u001b[39;49m\u001b[43mforce_all_finite\u001b[49m\u001b[43m,\u001b[49m\n\u001b[0;32m    972\u001b[0m \u001b[43m    \u001b[49m\u001b[43mensure_2d\u001b[49m\u001b[38;5;241;43m=\u001b[39;49m\u001b[43mensure_2d\u001b[49m\u001b[43m,\u001b[49m\n\u001b[0;32m    973\u001b[0m \u001b[43m    \u001b[49m\u001b[43mallow_nd\u001b[49m\u001b[38;5;241;43m=\u001b[39;49m\u001b[43mallow_nd\u001b[49m\u001b[43m,\u001b[49m\n\u001b[0;32m    974\u001b[0m \u001b[43m    \u001b[49m\u001b[43mensure_min_samples\u001b[49m\u001b[38;5;241;43m=\u001b[39;49m\u001b[43mensure_min_samples\u001b[49m\u001b[43m,\u001b[49m\n\u001b[0;32m    975\u001b[0m \u001b[43m    \u001b[49m\u001b[43mensure_min_features\u001b[49m\u001b[38;5;241;43m=\u001b[39;49m\u001b[43mensure_min_features\u001b[49m\u001b[43m,\u001b[49m\n\u001b[0;32m    976\u001b[0m \u001b[43m    \u001b[49m\u001b[43mestimator\u001b[49m\u001b[38;5;241;43m=\u001b[39;49m\u001b[43mestimator\u001b[49m\u001b[43m,\u001b[49m\n\u001b[0;32m    977\u001b[0m \u001b[43m\u001b[49m\u001b[43m)\u001b[49m\n\u001b[0;32m    979\u001b[0m y \u001b[38;5;241m=\u001b[39m _check_y(y, multi_output\u001b[38;5;241m=\u001b[39mmulti_output, y_numeric\u001b[38;5;241m=\u001b[39my_numeric)\n\u001b[0;32m    981\u001b[0m check_consistent_length(X, y)\n",
      "File \u001b[1;32mD:\\Ancondas\\lib\\site-packages\\sklearn\\utils\\validation.py:800\u001b[0m, in \u001b[0;36mcheck_array\u001b[1;34m(array, accept_sparse, accept_large_sparse, dtype, order, copy, force_all_finite, ensure_2d, allow_nd, ensure_min_samples, ensure_min_features, estimator)\u001b[0m\n\u001b[0;32m    794\u001b[0m         \u001b[38;5;28;01mraise\u001b[39;00m \u001b[38;5;167;01mValueError\u001b[39;00m(\n\u001b[0;32m    795\u001b[0m             \u001b[38;5;124m\"\u001b[39m\u001b[38;5;124mFound array with dim \u001b[39m\u001b[38;5;132;01m%d\u001b[39;00m\u001b[38;5;124m. \u001b[39m\u001b[38;5;132;01m%s\u001b[39;00m\u001b[38;5;124m expected <= 2.\u001b[39m\u001b[38;5;124m\"\u001b[39m\n\u001b[0;32m    796\u001b[0m             \u001b[38;5;241m%\u001b[39m (array\u001b[38;5;241m.\u001b[39mndim, estimator_name)\n\u001b[0;32m    797\u001b[0m         )\n\u001b[0;32m    799\u001b[0m     \u001b[38;5;28;01mif\u001b[39;00m force_all_finite:\n\u001b[1;32m--> 800\u001b[0m         \u001b[43m_assert_all_finite\u001b[49m\u001b[43m(\u001b[49m\u001b[43marray\u001b[49m\u001b[43m,\u001b[49m\u001b[43m \u001b[49m\u001b[43mallow_nan\u001b[49m\u001b[38;5;241;43m=\u001b[39;49m\u001b[43mforce_all_finite\u001b[49m\u001b[43m \u001b[49m\u001b[38;5;241;43m==\u001b[39;49m\u001b[43m \u001b[49m\u001b[38;5;124;43m\"\u001b[39;49m\u001b[38;5;124;43mallow-nan\u001b[39;49m\u001b[38;5;124;43m\"\u001b[39;49m\u001b[43m)\u001b[49m\n\u001b[0;32m    802\u001b[0m \u001b[38;5;28;01mif\u001b[39;00m ensure_min_samples \u001b[38;5;241m>\u001b[39m \u001b[38;5;241m0\u001b[39m:\n\u001b[0;32m    803\u001b[0m     n_samples \u001b[38;5;241m=\u001b[39m _num_samples(array)\n",
      "File \u001b[1;32mD:\\Ancondas\\lib\\site-packages\\sklearn\\utils\\validation.py:114\u001b[0m, in \u001b[0;36m_assert_all_finite\u001b[1;34m(X, allow_nan, msg_dtype)\u001b[0m\n\u001b[0;32m    107\u001b[0m     \u001b[38;5;28;01mif\u001b[39;00m (\n\u001b[0;32m    108\u001b[0m         allow_nan\n\u001b[0;32m    109\u001b[0m         \u001b[38;5;129;01mand\u001b[39;00m np\u001b[38;5;241m.\u001b[39misinf(X)\u001b[38;5;241m.\u001b[39many()\n\u001b[0;32m    110\u001b[0m         \u001b[38;5;129;01mor\u001b[39;00m \u001b[38;5;129;01mnot\u001b[39;00m allow_nan\n\u001b[0;32m    111\u001b[0m         \u001b[38;5;129;01mand\u001b[39;00m \u001b[38;5;129;01mnot\u001b[39;00m np\u001b[38;5;241m.\u001b[39misfinite(X)\u001b[38;5;241m.\u001b[39mall()\n\u001b[0;32m    112\u001b[0m     ):\n\u001b[0;32m    113\u001b[0m         type_err \u001b[38;5;241m=\u001b[39m \u001b[38;5;124m\"\u001b[39m\u001b[38;5;124minfinity\u001b[39m\u001b[38;5;124m\"\u001b[39m \u001b[38;5;28;01mif\u001b[39;00m allow_nan \u001b[38;5;28;01melse\u001b[39;00m \u001b[38;5;124m\"\u001b[39m\u001b[38;5;124mNaN, infinity\u001b[39m\u001b[38;5;124m\"\u001b[39m\n\u001b[1;32m--> 114\u001b[0m         \u001b[38;5;28;01mraise\u001b[39;00m \u001b[38;5;167;01mValueError\u001b[39;00m(\n\u001b[0;32m    115\u001b[0m             msg_err\u001b[38;5;241m.\u001b[39mformat(\n\u001b[0;32m    116\u001b[0m                 type_err, msg_dtype \u001b[38;5;28;01mif\u001b[39;00m msg_dtype \u001b[38;5;129;01mis\u001b[39;00m \u001b[38;5;129;01mnot\u001b[39;00m \u001b[38;5;28;01mNone\u001b[39;00m \u001b[38;5;28;01melse\u001b[39;00m X\u001b[38;5;241m.\u001b[39mdtype\n\u001b[0;32m    117\u001b[0m             )\n\u001b[0;32m    118\u001b[0m         )\n\u001b[0;32m    119\u001b[0m \u001b[38;5;66;03m# for object dtype data, we only check for NaNs (GH-13254)\u001b[39;00m\n\u001b[0;32m    120\u001b[0m \u001b[38;5;28;01melif\u001b[39;00m X\u001b[38;5;241m.\u001b[39mdtype \u001b[38;5;241m==\u001b[39m np\u001b[38;5;241m.\u001b[39mdtype(\u001b[38;5;124m\"\u001b[39m\u001b[38;5;124mobject\u001b[39m\u001b[38;5;124m\"\u001b[39m) \u001b[38;5;129;01mand\u001b[39;00m \u001b[38;5;129;01mnot\u001b[39;00m allow_nan:\n",
      "\u001b[1;31mValueError\u001b[0m: Input contains NaN, infinity or a value too large for dtype('float64')."
     ]
    }
   ],
   "source": [
    "# When the information was loss when you trian model everthing will error at the later time\n",
    "from sklearn.neural_network import MLPClassifier\n",
    "\n",
    "model = MLPClassifier(hidden_layer_sizes=(4), max_iter=2000, random_state=1)  # \n",
    "model.fit(X_train, y_train)"
   ]
  },
  {
   "cell_type": "code",
   "execution_count": null,
   "id": "fb053cbc",
   "metadata": {},
   "outputs": [],
   "source": []
  }
 ],
 "metadata": {
  "kernelspec": {
   "display_name": "Python 3 (ipykernel)",
   "language": "python",
   "name": "python3"
  },
  "language_info": {
   "codemirror_mode": {
    "name": "ipython",
    "version": 3
   },
   "file_extension": ".py",
   "mimetype": "text/x-python",
   "name": "python",
   "nbconvert_exporter": "python",
   "pygments_lexer": "ipython3",
   "version": "3.9.12"
  }
 },
 "nbformat": 4,
 "nbformat_minor": 5
}
